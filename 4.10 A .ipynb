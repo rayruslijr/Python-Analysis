{
 "cells": [
  {
   "cell_type": "markdown",
   "id": "3b2ad4fe",
   "metadata": {},
   "source": [
    "__Continuing or Task 4.10__\n"
   ]
  },
  {
   "cell_type": "markdown",
   "id": "bd0b35be",
   "metadata": {},
   "source": [
    "__First importing the Dataset__"
   ]
  },
  {
   "cell_type": "code",
   "execution_count": 1,
   "id": "131e487e",
   "metadata": {},
   "outputs": [],
   "source": [
    "# Import libraries\n",
    "import pandas as pd\n",
    "import numpy as np\n",
    "import os\n",
    "import matplotlib.pyplot as plt\n",
    "import seaborn as sns\n",
    "import scipy"
   ]
  },
  {
   "cell_type": "code",
   "execution_count": 2,
   "id": "b2f7ceb4",
   "metadata": {},
   "outputs": [],
   "source": [
    "#creating path\n",
    "path = r'/Users/rayruslijunior/11-2021 Instacart Basket Analysis'"
   ]
  },
  {
   "cell_type": "code",
   "execution_count": 3,
   "id": "5880fcc0",
   "metadata": {},
   "outputs": [],
   "source": [
    "#importing our latest data-set , unfortunately we are not yet finished ...ughhh\n",
    "df_merged = pd.read_pickle(os.path.join(path,'02 Data', 'Prepared Data', 'ords_prods_custs_merged_2.pkl'))"
   ]
  },
  {
   "cell_type": "code",
   "execution_count": 5,
   "id": "77ab24fd",
   "metadata": {},
   "outputs": [
    {
     "data": {
      "text/plain": [
       "(32641268, 40)"
      ]
     },
     "execution_count": 5,
     "metadata": {},
     "output_type": "execute_result"
    }
   ],
   "source": [
    "#checking if our data has been imported succesfully\n",
    "df_merged.shape"
   ]
  },
  {
   "cell_type": "code",
   "execution_count": 6,
   "id": "98eed51b",
   "metadata": {},
   "outputs": [],
   "source": [
    "pd.set_option('display.max_columns', None)"
   ]
  },
  {
   "cell_type": "code",
   "execution_count": 7,
   "id": "6156d294",
   "metadata": {},
   "outputs": [
    {
     "data": {
      "text/html": [
       "<div>\n",
       "<style scoped>\n",
       "    .dataframe tbody tr th:only-of-type {\n",
       "        vertical-align: middle;\n",
       "    }\n",
       "\n",
       "    .dataframe tbody tr th {\n",
       "        vertical-align: top;\n",
       "    }\n",
       "\n",
       "    .dataframe thead th {\n",
       "        text-align: right;\n",
       "    }\n",
       "</style>\n",
       "<table border=\"1\" class=\"dataframe\">\n",
       "  <thead>\n",
       "    <tr style=\"text-align: right;\">\n",
       "      <th></th>\n",
       "      <th>order_id</th>\n",
       "      <th>user_id</th>\n",
       "      <th>order_number</th>\n",
       "      <th>order_day_of_week</th>\n",
       "      <th>order_hour_of_day</th>\n",
       "      <th>days_since_prior_order</th>\n",
       "      <th>first_order</th>\n",
       "      <th>product_id</th>\n",
       "      <th>add_to_cart_order</th>\n",
       "      <th>product_name</th>\n",
       "      <th>aisle_id</th>\n",
       "      <th>department_id</th>\n",
       "      <th>prices</th>\n",
       "      <th>busiest_day</th>\n",
       "      <th>busiest_days</th>\n",
       "      <th>busiest_period_of_day</th>\n",
       "      <th>max_order</th>\n",
       "      <th>loyalty_flag</th>\n",
       "      <th>spending</th>\n",
       "      <th>spending_flag</th>\n",
       "      <th>frequency</th>\n",
       "      <th>frequency_flag</th>\n",
       "      <th>gender</th>\n",
       "      <th>state</th>\n",
       "      <th>age</th>\n",
       "      <th>date_joined</th>\n",
       "      <th>n_dependants</th>\n",
       "      <th>fam_status</th>\n",
       "      <th>income</th>\n",
       "      <th>_merge</th>\n",
       "      <th>region</th>\n",
       "      <th>exclusion_flag</th>\n",
       "      <th>age_group</th>\n",
       "      <th>income_range</th>\n",
       "      <th>parental_status</th>\n",
       "      <th>day</th>\n",
       "      <th>part_of_day</th>\n",
       "      <th>department_name</th>\n",
       "      <th>department_performance</th>\n",
       "      <th>price_range_loc</th>\n",
       "    </tr>\n",
       "  </thead>\n",
       "  <tbody>\n",
       "    <tr>\n",
       "      <th>0</th>\n",
       "      <td>2539329</td>\n",
       "      <td>1</td>\n",
       "      <td>1</td>\n",
       "      <td>2</td>\n",
       "      <td>8</td>\n",
       "      <td>NaN</td>\n",
       "      <td>True</td>\n",
       "      <td>196.0</td>\n",
       "      <td>1.0</td>\n",
       "      <td>Soda</td>\n",
       "      <td>77.0</td>\n",
       "      <td>7.0</td>\n",
       "      <td>9.0</td>\n",
       "      <td>Mid-range product</td>\n",
       "      <td>Regularly busy days</td>\n",
       "      <td>Average orders</td>\n",
       "      <td>11</td>\n",
       "      <td>Regularly busy</td>\n",
       "      <td>6.367188</td>\n",
       "      <td>Low Spender</td>\n",
       "      <td>20</td>\n",
       "      <td>Regular customer</td>\n",
       "      <td>Female</td>\n",
       "      <td>Alabama</td>\n",
       "      <td>31</td>\n",
       "      <td>2/17/2019</td>\n",
       "      <td>3</td>\n",
       "      <td>married</td>\n",
       "      <td>40423</td>\n",
       "      <td>both</td>\n",
       "      <td>South</td>\n",
       "      <td>non low activity customer</td>\n",
       "      <td>31-40</td>\n",
       "      <td>040000 - 080000</td>\n",
       "      <td>parent</td>\n",
       "      <td>Monday</td>\n",
       "      <td>Morning</td>\n",
       "      <td>beverages</td>\n",
       "      <td>High performing dept</td>\n",
       "      <td>Mid-range product</td>\n",
       "    </tr>\n",
       "    <tr>\n",
       "      <th>1</th>\n",
       "      <td>2539329</td>\n",
       "      <td>1</td>\n",
       "      <td>1</td>\n",
       "      <td>2</td>\n",
       "      <td>8</td>\n",
       "      <td>NaN</td>\n",
       "      <td>True</td>\n",
       "      <td>14084.0</td>\n",
       "      <td>2.0</td>\n",
       "      <td>Organic Unsweetened Vanilla Almond Milk</td>\n",
       "      <td>91.0</td>\n",
       "      <td>16.0</td>\n",
       "      <td>12.5</td>\n",
       "      <td>Mid-range product</td>\n",
       "      <td>Regularly busy days</td>\n",
       "      <td>Average orders</td>\n",
       "      <td>11</td>\n",
       "      <td>Regularly busy</td>\n",
       "      <td>6.367188</td>\n",
       "      <td>Low Spender</td>\n",
       "      <td>20</td>\n",
       "      <td>Regular customer</td>\n",
       "      <td>Female</td>\n",
       "      <td>Alabama</td>\n",
       "      <td>31</td>\n",
       "      <td>2/17/2019</td>\n",
       "      <td>3</td>\n",
       "      <td>married</td>\n",
       "      <td>40423</td>\n",
       "      <td>both</td>\n",
       "      <td>South</td>\n",
       "      <td>non low activity customer</td>\n",
       "      <td>31-40</td>\n",
       "      <td>040000 - 080000</td>\n",
       "      <td>parent</td>\n",
       "      <td>Monday</td>\n",
       "      <td>Morning</td>\n",
       "      <td>dairy eggs</td>\n",
       "      <td>High performing dept</td>\n",
       "      <td>Mid-range product</td>\n",
       "    </tr>\n",
       "  </tbody>\n",
       "</table>\n",
       "</div>"
      ],
      "text/plain": [
       "   order_id  user_id  order_number  order_day_of_week  order_hour_of_day  \\\n",
       "0   2539329        1             1                  2                  8   \n",
       "1   2539329        1             1                  2                  8   \n",
       "\n",
       "   days_since_prior_order  first_order  product_id  add_to_cart_order  \\\n",
       "0                     NaN         True       196.0                1.0   \n",
       "1                     NaN         True     14084.0                2.0   \n",
       "\n",
       "                              product_name  aisle_id  department_id  prices  \\\n",
       "0                                     Soda      77.0            7.0     9.0   \n",
       "1  Organic Unsweetened Vanilla Almond Milk      91.0           16.0    12.5   \n",
       "\n",
       "         busiest_day         busiest_days busiest_period_of_day  max_order  \\\n",
       "0  Mid-range product  Regularly busy days        Average orders         11   \n",
       "1  Mid-range product  Regularly busy days        Average orders         11   \n",
       "\n",
       "     loyalty_flag  spending spending_flag  frequency    frequency_flag  \\\n",
       "0  Regularly busy  6.367188   Low Spender         20  Regular customer   \n",
       "1  Regularly busy  6.367188   Low Spender         20  Regular customer   \n",
       "\n",
       "   gender    state  age date_joined  n_dependants fam_status  income _merge  \\\n",
       "0  Female  Alabama   31   2/17/2019             3    married   40423   both   \n",
       "1  Female  Alabama   31   2/17/2019             3    married   40423   both   \n",
       "\n",
       "  region             exclusion_flag age_group     income_range  \\\n",
       "0  South  non low activity customer     31-40  040000 - 080000   \n",
       "1  South  non low activity customer     31-40  040000 - 080000   \n",
       "\n",
       "  parental_status     day part_of_day department_name department_performance  \\\n",
       "0          parent  Monday     Morning       beverages   High performing dept   \n",
       "1          parent  Monday     Morning      dairy eggs   High performing dept   \n",
       "\n",
       "     price_range_loc  \n",
       "0  Mid-range product  \n",
       "1  Mid-range product  "
      ]
     },
     "execution_count": 7,
     "metadata": {},
     "output_type": "execute_result"
    }
   ],
   "source": [
    "df_merged.head(2)"
   ]
  },
  {
   "cell_type": "code",
   "execution_count": 8,
   "id": "9b743def",
   "metadata": {},
   "outputs": [
    {
     "name": "stdout",
     "output_type": "stream",
     "text": [
      "<class 'pandas.core.frame.DataFrame'>\n",
      "Int64Index: 32641268 entries, 0 to 32641267\n",
      "Data columns (total 40 columns):\n",
      " #   Column                  Dtype   \n",
      "---  ------                  -----   \n",
      " 0   order_id                int64   \n",
      " 1   user_id                 int64   \n",
      " 2   order_number            int64   \n",
      " 3   order_day_of_week       uint16  \n",
      " 4   order_hour_of_day       uint16  \n",
      " 5   days_since_prior_order  float16 \n",
      " 6   first_order             bool    \n",
      " 7   product_id              float64 \n",
      " 8   add_to_cart_order       float16 \n",
      " 9   product_name            category\n",
      " 10  aisle_id                float16 \n",
      " 11  department_id           float16 \n",
      " 12  prices                  float32 \n",
      " 13  busiest_day             category\n",
      " 14  busiest_days            category\n",
      " 15  busiest_period_of_day   category\n",
      " 16  max_order               int16   \n",
      " 17  loyalty_flag            category\n",
      " 18  spending                float16 \n",
      " 19  spending_flag           category\n",
      " 20  frequency               int16   \n",
      " 21  frequency_flag          category\n",
      " 22  gender                  object  \n",
      " 23  state                   object  \n",
      " 24  age                     int64   \n",
      " 25  date_joined             object  \n",
      " 26  n_dependants            int64   \n",
      " 27  fam_status              object  \n",
      " 28  income                  int64   \n",
      " 29  _merge                  category\n",
      " 30  region                  object  \n",
      " 31  exclusion_flag          object  \n",
      " 32  age_group               object  \n",
      " 33  income_range            object  \n",
      " 34  parental_status         object  \n",
      " 35  day                     object  \n",
      " 36  part_of_day             object  \n",
      " 37  department_name         object  \n",
      " 38  department_performance  object  \n",
      " 39  price_range_loc         object  \n",
      "dtypes: bool(1), category(8), float16(5), float32(1), float64(1), int16(2), int64(6), object(14), uint16(2)\n",
      "memory usage: 6.4+ GB\n"
     ]
    }
   ],
   "source": [
    "#i need to reduce the size of the dataframe since it seem it is a bit too funky for my macbook air\n",
    "\n",
    "df_merged.info()"
   ]
  },
  {
   "cell_type": "code",
   "execution_count": 9,
   "id": "f98434e9",
   "metadata": {},
   "outputs": [],
   "source": [
    "#changing the data types from our added collumn to category\n",
    "df_merged[['gender','state','fam_status','region','exclusion_flag','age_group','income_range','parental_status','day','part_of_day','department_name','department_performance']]=df_merged[['gender','state','fam_status','region','exclusion_flag','age_group','income_range','parental_status','day','part_of_day','department_name','department_performance']].astype('category') "
   ]
  },
  {
   "cell_type": "code",
   "execution_count": 10,
   "id": "8bfcd608",
   "metadata": {},
   "outputs": [],
   "source": [
    "df_merged.drop('_merge',axis =1, inplace = True)"
   ]
  },
  {
   "cell_type": "code",
   "execution_count": 11,
   "id": "5c80758c",
   "metadata": {},
   "outputs": [],
   "source": [
    "df_merged[['age','n_dependants','income']] = df_merged[['age','n_dependants','income']].astype('int16')"
   ]
  },
  {
   "cell_type": "code",
   "execution_count": 10,
   "id": "47d65424",
   "metadata": {},
   "outputs": [
    {
     "name": "stdout",
     "output_type": "stream",
     "text": [
      "<class 'pandas.core.frame.DataFrame'>\n",
      "Int64Index: 32641268 entries, 0 to 32641267\n",
      "Data columns (total 39 columns):\n",
      " #   Column                  Dtype   \n",
      "---  ------                  -----   \n",
      " 0   order_id                int64   \n",
      " 1   user_id                 int64   \n",
      " 2   order_number            int64   \n",
      " 3   order_day_of_week       uint16  \n",
      " 4   order_hour_of_day       uint16  \n",
      " 5   days_since_prior_order  float16 \n",
      " 6   first_order             bool    \n",
      " 7   product_id              float64 \n",
      " 8   add_to_cart_order       float16 \n",
      " 9   product_name            category\n",
      " 10  aisle_id                float16 \n",
      " 11  department_id           float16 \n",
      " 12  prices                  float32 \n",
      " 13  busiest_day             category\n",
      " 14  busiest_days            category\n",
      " 15  busiest_period_of_day   category\n",
      " 16  max_order               int16   \n",
      " 17  loyalty_flag            category\n",
      " 18  spending                float16 \n",
      " 19  spending_flag           category\n",
      " 20  frequency               int16   \n",
      " 21  frequency_flag          category\n",
      " 22  gender                  category\n",
      " 23  state                   category\n",
      " 24  age                     int16   \n",
      " 25  date_joined             object  \n",
      " 26  n_dependants            int16   \n",
      " 27  fam_status              category\n",
      " 28  income                  int16   \n",
      " 29  region                  category\n",
      " 30  exclusion_flag          category\n",
      " 31  age_group               category\n",
      " 32  income_range            category\n",
      " 33  parental_status         category\n",
      " 34  day                     category\n",
      " 35  part_of_day             category\n",
      " 36  department_name         category\n",
      " 37  department_performance  category\n",
      " 38  price_range_loc         object  \n",
      "dtypes: bool(1), category(19), float16(5), float32(1), float64(1), int16(5), int64(3), object(2), uint16(2)\n",
      "memory usage: 3.3+ GB\n"
     ]
    }
   ],
   "source": [
    "df_merged.info()"
   ]
  },
  {
   "cell_type": "markdown",
   "id": "f99cbd49",
   "metadata": {},
   "source": [
    "__6.Create an appropriate visualization to show the distribution of profiles.__"
   ]
  },
  {
   "cell_type": "markdown",
   "id": "263e698c",
   "metadata": {},
   "source": [
    "__6.1 Visualization__"
   ]
  },
  {
   "cell_type": "code",
   "execution_count": 11,
   "id": "64260d56",
   "metadata": {},
   "outputs": [
    {
     "data": {
      "image/png": "[encoded data removed]",
      "text/plain": [
       "<Figure size 432x288 with 1 Axes>"
      ]
     },
     "metadata": {
      "needs_background": "light"
     },
     "output_type": "display_data"
    }
   ],
   "source": [
    "#creating bar chart for each department\n",
    "bar_department = df_merged['department_name'].value_counts().plot.bar()\n"
   ]
  },
  {
   "cell_type": "code",
   "execution_count": 31,
   "id": "793ce63e",
   "metadata": {},
   "outputs": [],
   "source": [
    "#exporting top selling department bar\n",
    "bar_department.figure.savefig(os.path.join(path,'04 Analysis','visualizations','top_departments.png'))"
   ]
  },
  {
   "cell_type": "code",
   "execution_count": 33,
   "id": "b8ca66da",
   "metadata": {},
   "outputs": [],
   "source": [
    "#creating subset only on our high performance department\n",
    "df_perf = df_merged[df_merged['department_performance']=='High performing dept']"
   ]
  },
  {
   "cell_type": "code",
   "execution_count": 53,
   "id": "4ee3a18c",
   "metadata": {},
   "outputs": [
    {
     "data": {
      "image/png": "[encoded data removed]",
      "text/plain": [
       "<Figure size 432x288 with 1 Axes>"
      ]
     },
     "metadata": {},
     "output_type": "display_data"
    }
   ],
   "source": [
    "top_6_department = df_perf['department_name'].value_counts().plot.pie(autopct='%1.1f%%',colors = sns.color_palette('pastel',6)\n",
    ")\n",
    "\n"
   ]
  },
  {
   "cell_type": "markdown",
   "id": "42e127de",
   "metadata": {},
   "source": [
    "#this chart could be send to our marketing department to show our top 6 departments"
   ]
  },
  {
   "cell_type": "code",
   "execution_count": 54,
   "id": "2b024731",
   "metadata": {},
   "outputs": [],
   "source": [
    "#exporting top selling department bar\n",
    "top_6_department.figure.savefig(os.path.join(path,'04 Analysis','visualizations','top_6_departments.png'))"
   ]
  },
  {
   "cell_type": "code",
   "execution_count": 13,
   "id": "b572a57d",
   "metadata": {},
   "outputs": [
    {
     "name": "stdout",
     "output_type": "stream",
     "text": [
      "day                Friday  Monday  Saturday  Sunday  Thursday  Tuesday  \\\n",
      "order_hour_of_day                                                        \n",
      "0                   31519   30067     39121   37314     29721    27710   \n",
      "1                   18339   14798     22687   18391     15095    13651   \n",
      "2                   11468    8390     12835   10859      9581     8730   \n",
      "3                    7960    7066      8926    7151      8370     5826   \n",
      "4                    7990    6846      8435    7721      8791     6893   \n",
      "5                   10856   12818     11724   14506     14839    11830   \n",
      "6                   32372   44051     35178   53047     46582    41200   \n",
      "7                  118231  123176    134276  166224    129718   111362   \n",
      "8                  240804  225199    308390  334892    225548   199671   \n",
      "9                  318761  331043    444111  508524    317005   279830   \n",
      "10                 365393  361963    519619  552924    357659   315499   \n",
      "11                 377223  354649    539421  512264    356071   312862   \n",
      "12                 375940  331455    539014  465549    335956   298292   \n",
      "13                 382466  336542    562284  459966    338655   304710   \n",
      "14                 393712  337190    568978  455744    348259   306238   \n",
      "15                 381264  336137    556011  445382    345441   316357   \n",
      "16                 356894  332997    505151  421136    329366   308391   \n",
      "17                 294680  279568    398601  340086    272529   262862   \n",
      "18                 230387  228414    286748  261133    219359   214748   \n",
      "19                 173157  171970    219034  200348    168204   165485   \n",
      "20                 132187  131716    185125  152990    126766   123001   \n",
      "21                 112916  103427    154141  120618     99775   101153   \n",
      "22                  92517   80795    121636   92385     79346    81981   \n",
      "23                  63268   52896     71495   57570     54353    50465   \n",
      "\n",
      "day                Wednesday  \n",
      "order_hour_of_day             \n",
      "0                      24885  \n",
      "1                      13628  \n",
      "2                       8041  \n",
      "3                       6376  \n",
      "4                       6960  \n",
      "5                      12088  \n",
      "6                      40103  \n",
      "7                     114176  \n",
      "8                     195367  \n",
      "9                     271793  \n",
      "10                    307952  \n",
      "11                    302879  \n",
      "12                    291327  \n",
      "13                    295548  \n",
      "14                    298963  \n",
      "15                    301498  \n",
      "16                    300175  \n",
      "17                    255899  \n",
      "18                    209081  \n",
      "19                    170167  \n",
      "20                    131447  \n",
      "21                    109022  \n",
      "22                     90011  \n",
      "23                     55004  \n"
     ]
    }
   ],
   "source": [
    "crosstab_random_price = pd.crosstab(df_merged['order_hour_of_day'], df_merged['day'], dropna = False)\n",
    "print(crosstab_random_price)\n",
    "crosstab_random_price.to_clipboard()"
   ]
  },
  {
   "cell_type": "code",
   "execution_count": 16,
   "id": "0b154b10",
   "metadata": {},
   "outputs": [
    {
     "data": {
      "image/png": "[encoded data removed]",
      "text/plain": [
       "<Figure size 432x288 with 1 Axes>"
      ]
     },
     "metadata": {
      "needs_background": "light"
     },
     "output_type": "display_data"
    }
   ],
   "source": [
    "crosstab_random_price_line = sns.lineplot(data = crosstab_random_price)"
   ]
  },
  {
   "cell_type": "code",
   "execution_count": 18,
   "id": "61ef8a83",
   "metadata": {},
   "outputs": [
    {
     "name": "stderr",
     "output_type": "stream",
     "text": [
      "IOPub data rate exceeded.\n",
      "The notebook server will temporarily stop sending output\n",
      "to the client in order to avoid crashing it.\n",
      "To change this limit, set the config variable\n",
      "`--NotebookApp.iopub_data_rate_limit`.\n",
      "\n",
      "Current values:\n",
      "NotebookApp.iopub_data_rate_limit=1000000.0 (bytes/sec)\n",
      "NotebookApp.rate_limit_window=3.0 (secs)\n",
      "\n"
     ]
    }
   ],
   "source": [
    "crosstab_department_product = pd.crosstab(df_merged['department_name'], df_merged['product_id'], dropna = False)\n",
    "print(crosstab_department_product)\n",
    "crosstab_department_product.to_clipboard()"
   ]
  },
  {
   "cell_type": "code",
   "execution_count": null,
   "id": "fdc06b2e",
   "metadata": {},
   "outputs": [],
   "source": []
  },
  {
   "cell_type": "markdown",
   "id": "5984f162",
   "metadata": {
    "scrolled": true
   },
   "source": [
    "#upgrading our plot bar order hour of day\n",
    "bar_hour = df_merged['order_hour_of_day'].value_counts().plot.bar(color = sns.color_palette('pastel')),plt.title('busiest hour of the day')"
   ]
  },
  {
   "cell_type": "code",
   "execution_count": null,
   "id": "80dd1d57",
   "metadata": {},
   "outputs": [],
   "source": [
    "#upgrading our plot bar order hour of day\n",
    "bar_hour = df_merged['order_hour_of_day'].plot.bar(color = sns.color_palette('pastel')),plt.title('busiest hour of the day')"
   ]
  },
  {
   "cell_type": "code",
   "execution_count": null,
   "id": "27769707",
   "metadata": {},
   "outputs": [],
   "source": [
    "#upgrading our plot bar order hour of day\n",
    "bar_hour = df_merged['order_hour_of_day'].value_counts().plot.bar(color = sns.color_palette('pastel')),plt.title('busiest hour of the day')"
   ]
  },
  {
   "cell_type": "code",
   "execution_count": 64,
   "id": "e1b4a632",
   "metadata": {
    "scrolled": true
   },
   "outputs": [
    {
     "data": {
      "image/png": "[encoded data removed]",
      "text/plain": [
       "<Figure size 432x288 with 1 Axes>"
      ]
     },
     "metadata": {
      "needs_background": "light"
     },
     "output_type": "display_data"
    }
   ],
   "source": [
    "#barchart with our part_of_day\n",
    "bar_part_of_day = df_merged['part_of_day'].value_counts().plot.bar(color = sns.color_palette('pastel')),plt.title('part of the day order\n",
    "                                                                                                                  ')"
   ]
  },
  {
   "cell_type": "code",
   "execution_count": null,
   "id": "0f89127a",
   "metadata": {},
   "outputs": [],
   "source": []
  },
  {
   "cell_type": "code",
   "execution_count": 74,
   "id": "eedabd5e",
   "metadata": {},
   "outputs": [
    {
     "name": "stdout",
     "output_type": "stream",
     "text": [
      "department_performance  High performing dept  Normal performing dept\n",
      "part_of_day                                                         \n",
      "Afternoon                            9952959                 3310029\n",
      "Evening                              5107663                 1699081\n",
      "Morning                              8325457                 2690216\n",
      "Night                                1177744                  378119\n"
     ]
    }
   ],
   "source": [
    "#crosstab for department performance \n",
    "crosstab_department_day = pd.crosstab(df_merged['part_of_day'], df_merged['department_performance'], dropna = False)\n",
    "print(crosstab_department_day)\n",
    "crosstab_order_price.to_clipboard()"
   ]
  },
  {
   "cell_type": "code",
   "execution_count": 75,
   "id": "78c782c8",
   "metadata": {},
   "outputs": [
    {
     "data": {
      "image/png": "[encoded data removed]",
      "text/plain": [
       "<Figure size 432x288 with 1 Axes>"
      ]
     },
     "metadata": {
      "needs_background": "light"
     },
     "output_type": "display_data"
    }
   ],
   "source": [
    "crosstab_department_day.plot = crosstab_department_day.plot.bar(color = sns.color_palette('pastel')),plt.title('department_performance on part_of_day')"
   ]
  },
  {
   "cell_type": "code",
   "execution_count": 44,
   "id": "5d9ce515",
   "metadata": {},
   "outputs": [
    {
     "data": {
      "image/png": "[encoded data removed]",
      "text/plain": [
       "<Figure size 432x288 with 1 Axes>"
      ]
     },
     "metadata": {},
     "output_type": "display_data"
    }
   ],
   "source": [
    "#displaying our price range column\n",
    "price_range_pie =df_merged['price_range_loc'].value_counts().plot.pie(autopct='%1.1f%%',colors = sns.color_palette('pastel')),plt.title('product price range')"
   ]
  },
  {
   "cell_type": "code",
   "execution_count": 23,
   "id": "9aac9bf0",
   "metadata": {},
   "outputs": [
    {
     "name": "stdout",
     "output_type": "stream",
     "text": [
      "price_range_loc    High-range product  Low-range product  Mid-range product\n",
      "order_hour_of_day                                                          \n",
      "0                                2752              68160             147830\n",
      "1                                1399              35953              78331\n",
      "2                                 910              21785              46665\n",
      "3                                 634              15795              34839\n",
      "4                                 686              16507              36039\n",
      "5                                1050              27214              59680\n",
      "6                                3697              89902             196851\n",
      "7                               11464             275920             603539\n",
      "8                               21692             536748            1159423\n",
      "9                               29335             775279            1649228\n",
      "10                              33374             873664            1854295\n",
      "11                              34993             860467            1840234\n",
      "12                              34145             819742            1764217\n",
      "13                              34665             830490            1795415\n",
      "14                              35028             837566            1816134\n",
      "15                              35048             828700            1797970\n",
      "16                              33108             789191            1712445\n",
      "17                              26635             650258            1410380\n",
      "18                              20990             509103            1106133\n",
      "19                              15474             392448             850154\n",
      "20                              12245             303498             660257\n",
      "21                              10177             246963             538388\n",
      "22                               7971             196106             430082\n",
      "23                               5079             124862             272331\n"
     ]
    }
   ],
   "source": [
    "crosstab_order_price = pd.crosstab(df_merged['order_hour_of_day'], df_merged['price_range_loc'], dropna = False)\n",
    "print(crosstab_order_price)\n",
    "crosstab_order_price.to_clipboard()"
   ]
  },
  {
   "cell_type": "code",
   "execution_count": 24,
   "id": "05f65049",
   "metadata": {},
   "outputs": [
    {
     "data": {
      "image/png": "[encoded data removed]",
      "text/plain": [
       "<Figure size 432x288 with 1 Axes>"
      ]
     },
     "metadata": {
      "needs_background": "light"
     },
     "output_type": "display_data"
    }
   ],
   "source": [
    "crosstab_order_price.plot = crosstab_order_price.plot.bar(stacked = True, color = sns.color_palette('pastel')),plt.title('Price range loc on hour of the day')\n"
   ]
  },
  {
   "cell_type": "code",
   "execution_count": 46,
   "id": "997eea24",
   "metadata": {
    "scrolled": true
   },
   "outputs": [
    {
     "name": "stdout",
     "output_type": "stream",
     "text": [
      "price_range_loc  High-range product  Low-range product  Mid-range product\n",
      "region                                                                   \n",
      "Midwest                       96658            2372304            5127103\n",
      "Northeast                     56010            1384019            2978811\n",
      "South                        129616            3168272            6855302\n",
      "West                         130267            3201726            6899644\n"
     ]
    }
   ],
   "source": [
    "crosstab_region_price = pd.crosstab(df_merged['region'], df_merged['price_range_loc'], dropna = False)\n",
    "print(crosstab_region_price)\n",
    "crosstab_order_price.to_clipboard()"
   ]
  },
  {
   "cell_type": "code",
   "execution_count": 47,
   "id": "d0a6145a",
   "metadata": {},
   "outputs": [
    {
     "data": {
      "image/png": "[encoded data removed]",
      "text/plain": [
       "<Figure size 432x288 with 1 Axes>"
      ]
     },
     "metadata": {
      "needs_background": "light"
     },
     "output_type": "display_data"
    }
   ],
   "source": [
    "crosstab_region_price = crosstab_region_price.plot.bar(stacked = True, color = sns.color_palette('pastel')),plt.title('Region Price Range Loc')"
   ]
  },
  {
   "cell_type": "markdown",
   "id": "3113097b",
   "metadata": {},
   "source": [
    "__6.2 Exploring our customers__"
   ]
  },
  {
   "cell_type": "code",
   "execution_count": 13,
   "id": "07d1a443",
   "metadata": {},
   "outputs": [
    {
     "data": {
      "image/png": "[encoded data removed]",
      "text/plain": [
       "<Figure size 432x288 with 1 Axes>"
      ]
     },
     "metadata": {},
     "output_type": "display_data"
    }
   ],
   "source": [
    "#answering distribution of customer according to brand loyalty\n",
    "loyalty_pie = df_merged['frequency_flag'].value_counts().sort_index().plot.pie(autopct='%1.1f%%', colors = sns.color_palette('pastel',3))\n",
    "plt.ylabel('')\n",
    "plt.tight_layout()"
   ]
  },
  {
   "cell_type": "code",
   "execution_count": 14,
   "id": "3bf3a5ec",
   "metadata": {},
   "outputs": [],
   "source": [
    "#exporting our loyalty pie\n",
    "loyalty_pie.figure.savefig(os.path.join(path,'04 Analysis','visualizations','loyalty_pie.png'))"
   ]
  },
  {
   "cell_type": "code",
   "execution_count": 81,
   "id": "9b7ba411",
   "metadata": {},
   "outputs": [
    {
     "name": "stdout",
     "output_type": "stream",
     "text": [
      "frequency_flag  Loyal customer  New customer  Regular customer\n",
      "region                                                        \n",
      "Midwest                2461962       1310882           3879691\n",
      "Northeast              1455710        767995           2228359\n",
      "South                  3335405       1746980           5146813\n",
      "West                   3426501       1754361           5126609\n"
     ]
    }
   ],
   "source": [
    "#checking our customer distribution in each region based on frequency flag\n",
    "crosstab_region_customer = pd.crosstab(df_merged['region'],df_merged['frequency_flag'],dropna = False)\n",
    "print (crosstab_region_customer)\n",
    "crosstab_region_customer.to_clipboard()"
   ]
  },
  {
   "cell_type": "code",
   "execution_count": 82,
   "id": "52996759",
   "metadata": {},
   "outputs": [
    {
     "data": {
      "text/plain": [
       "(Text(27.0, 0.5, 'millions'), None)"
      ]
     },
     "execution_count": 82,
     "metadata": {},
     "output_type": "execute_result"
    },
    {
     "data": {
      "image/png": "[encoded data removed]",
      "text/plain": [
       "<Figure size 432x288 with 1 Axes>"
      ]
     },
     "metadata": {
      "needs_background": "light"
     },
     "output_type": "display_data"
    }
   ],
   "source": [
    "#creating visualization about crosstab_region_customer\n",
    "bar_region = crosstab_region_customer.plot(kind='bar', stacked= True),\n",
    "plt.title('Customer frequency flag by region')\n",
    "plt.ylabel('millions'),plt.tight_layout()"
   ]
  },
  {
   "cell_type": "code",
   "execution_count": 61,
   "id": "738a080b",
   "metadata": {
    "scrolled": true
   },
   "outputs": [
    {
     "name": "stdout",
     "output_type": "stream",
     "text": [
      "frequency_flag  Loyal customer  New customer  Regular customer\n",
      "age_group                                                     \n",
      "18-20                   486031        262485            785663\n",
      "21-30                  1651506        880479           2581496\n",
      "31-40                  1678233        855879           2573055\n",
      "41-50                  1690812        872472           2565914\n",
      "51-60                  1667348        877905           2551918\n",
      "61-70                  1666308        873099           2501999\n",
      "71-80                  1672622        867677           2565299\n",
      "80+                     166718         90222            256128\n"
     ]
    }
   ],
   "source": [
    "#creating visualization age_group and frequency_flag\n",
    "crosstab_age_frequency = pd.crosstab(df_merged['age_group'],df_merged['frequency_flag'],dropna = False)\n",
    "print (crosstab_age_frequency)\n",
    "crosstab_age_frequency.to_clipboard()"
   ]
  },
  {
   "cell_type": "code",
   "execution_count": 63,
   "id": "f3c9c68b",
   "metadata": {},
   "outputs": [
    {
     "data": {
      "text/plain": [
       "(Text(0.5, 1.0, 'Customer frequency flag by age group'), None)"
      ]
     },
     "execution_count": 63,
     "metadata": {},
     "output_type": "execute_result"
    },
    {
     "data": {
      "image/png": "[encoded data removed]",
      "text/plain": [
       "<Figure size 432x288 with 1 Axes>"
      ]
     },
     "metadata": {
      "needs_background": "light"
     },
     "output_type": "display_data"
    }
   ],
   "source": [
    "age_frequency = crosstab_age_frequency.plot(kind='bar', stacked= True),\n",
    "plt.title('Customer frequency flag by age group'),plt.tight_layout()"
   ]
  },
  {
   "cell_type": "code",
   "execution_count": 58,
   "id": "b69b9059",
   "metadata": {
    "scrolled": true
   },
   "outputs": [
    {
     "data": {
      "image/png": "[encoded data removed]",
      "text/plain": [
       "<Figure size 432x288 with 1 Axes>"
      ]
     },
     "metadata": {
      "needs_background": "light"
     },
     "output_type": "display_data"
    }
   ],
   "source": [
    "#parental status \n",
    "bar_parents= df_merged['parental_status'].value_counts().plot.bar(color = 'green'),plt.title('Parental status')"
   ]
  },
  {
   "cell_type": "code",
   "execution_count": 76,
   "id": "9435dc8f",
   "metadata": {
    "scrolled": true
   },
   "outputs": [
    {
     "name": "stdout",
     "output_type": "stream",
     "text": [
      "price_range_loc  High-range product  Low-range product  Mid-range product\n",
      "parental_status                                                          \n",
      "non parent                   100949            2531324            5464002\n",
      "parent                       311602            7594997           16396858\n"
     ]
    }
   ],
   "source": [
    "#checking parent and price range loc\n",
    "crosstab_parent_price = pd.crosstab(df_merged['parental_status'], df_merged['price_range_loc'], dropna = False)\n",
    "print(crosstab_parent_price)\n",
    "crosstab_parent_price.to_clipboard()"
   ]
  },
  {
   "cell_type": "code",
   "execution_count": 17,
   "id": "7f29036e",
   "metadata": {},
   "outputs": [
    {
     "name": "stdout",
     "output_type": "stream",
     "text": [
      "order_hour_of_day     0      1      2      3      4      5      6       7   \\\n",
      "region                                                                       \n",
      "Midwest            51112  27582  17098  11998  12784  20040  67783  209717   \n",
      "Northeast          30084  16753   9827   7338   7654  12129  37154  119526   \n",
      "South              69456  36227  20662  16508  16926  29375  93763  283411   \n",
      "West               69685  36027  22317  15831  16272  27117  93833  284509   \n",
      "\n",
      "order_hour_of_day      8       9       10      11      12      13      14  \\\n",
      "region                                                                      \n",
      "Midwest            400918  576767  651155  646315  616721  623236  629723   \n",
      "Northeast          234103  333022  377520  375968  362975  367318  369917   \n",
      "South              549193  780609  873855  863418  824602  833180  845588   \n",
      "West               545657  780669  878479  869668  833235  856437  863856   \n",
      "\n",
      "order_hour_of_day      15      16      17      18      19      20      21  \\\n",
      "region                                                                      \n",
      "Midwest            632746  601844  495169  391801  299098  232911  190579   \n",
      "Northeast          368270  349867  287841  225186  170430  133714  109507   \n",
      "South              836299  797862  657041  515610  400734  306755  252583   \n",
      "West               844775  804537  664174  517273  398103  309852  248383   \n",
      "\n",
      "order_hour_of_day      22      23  \n",
      "region                             \n",
      "Midwest            152302   93136  \n",
      "Northeast           87709   58252  \n",
      "South              198539  127002  \n",
      "West               200121  126661  \n"
     ]
    }
   ],
   "source": [
    "#checking our customer distribution in each region based on frequency flag\n",
    "crosstab_region_order = pd.crosstab(df_merged['region'],df_merged['order_hour_of_day'],dropna = False)\n",
    "print (crosstab_region_order)\n",
    "crosstab_region_order.to_clipboard()"
   ]
  },
  {
   "cell_type": "code",
   "execution_count": 85,
   "id": "d0ab00bb",
   "metadata": {},
   "outputs": [
    {
     "name": "stdout",
     "output_type": "stream",
     "text": [
      "fam_status  divorced/widowed  living with parents and siblings  married  \\\n",
      "region                                                                    \n",
      "Midwest               651031                            369105  5364374   \n",
      "Northeast             386009                            217635  3140479   \n",
      "South                 864484                            507549  7173173   \n",
      "West                  890576                            467627  7244379   \n",
      "\n",
      "fam_status   single  \n",
      "region               \n",
      "Midwest     1268025  \n",
      "Northeast    707941  \n",
      "South       1683992  \n",
      "West        1704889  \n"
     ]
    }
   ],
   "source": [
    "#Crosstab family status by region\n",
    "crosstab_status_region = pd.crosstab(df_merged['region'], df_merged['fam_status'], dropna = False)\n",
    "print(crosstab_status_region)\n",
    "crosstab_status_region.to_clipboard()"
   ]
  },
  {
   "cell_type": "code",
   "execution_count": 86,
   "id": "d7ff48bb",
   "metadata": {
    "scrolled": true
   },
   "outputs": [
    {
     "data": {
      "image/png": "[encoded data removed]",
      "text/plain": [
       "<Figure size 432x288 with 1 Axes>"
      ]
     },
     "metadata": {
      "needs_background": "light"
     },
     "output_type": "display_data"
    }
   ],
   "source": [
    "#visualization of family status by region\n",
    "crosstab_status_region_graph = crosstab_status_region.plot(kind='bar', color = sns.color_palette('pastel'),stacked = True )"
   ]
  },
  {
   "cell_type": "code",
   "execution_count": 90,
   "id": "fa73c9cc",
   "metadata": {},
   "outputs": [
    {
     "name": "stdout",
     "output_type": "stream",
     "text": [
      "fam_status   divorced/widowed  living with parents and siblings  married  \\\n",
      "part_of_day                                                                \n",
      "Afternoon             1136018                            635263  9314592   \n",
      "Evening                584956                            325325  4781600   \n",
      "Morning                939614                            524727  7739130   \n",
      "Night                  131512                             76601  1087083   \n",
      "\n",
      "fam_status    single  \n",
      "part_of_day           \n",
      "Afternoon    2177115  \n",
      "Evening      1114863  \n",
      "Morning      1812202  \n",
      "Night         260667  \n"
     ]
    }
   ],
   "source": [
    "crosstab_status_ordertime = pd.crosstab(df_merged['part_of_day'], df_merged['fam_status'], dropna = False)\n",
    "print(crosstab_status_ordertime)\n",
    "crosstab_status_ordertime.to_clipboard()"
   ]
  },
  {
   "cell_type": "code",
   "execution_count": 91,
   "id": "69d5c1a6",
   "metadata": {},
   "outputs": [
    {
     "data": {
      "image/png": "[encoded data removed]",
      "text/plain": [
       "<Figure size 432x288 with 1 Axes>"
      ]
     },
     "metadata": {
      "needs_background": "light"
     },
     "output_type": "display_data"
    }
   ],
   "source": [
    "crosstab_status_ordertime_line = sns.lineplot(data = crosstab_status_ordertime)"
   ]
  },
  {
   "cell_type": "code",
   "execution_count": 79,
   "id": "da26bd32",
   "metadata": {
    "scrolled": true
   },
   "outputs": [
    {
     "data": {
      "image/png": "[encoded data removed]",
      "text/plain": [
       "<Figure size 432x288 with 1 Axes>"
      ]
     },
     "metadata": {
      "needs_background": "light"
     },
     "output_type": "display_data"
    }
   ],
   "source": [
    "#visualization for parental status and price_range\n",
    "crosstab_parent_price_graph = crosstab_parent_price.plot(kind='bar', color =sns.color_palette('pastel')),pltb.title('Correlation between parental status and product purchased')"
   ]
  },
  {
   "cell_type": "code",
   "execution_count": 60,
   "id": "3c21d073",
   "metadata": {},
   "outputs": [
    {
     "name": "stdout",
     "output_type": "stream",
     "text": [
      "income_range  025000 - 040000  040000 - 080000  080000 - 120000  \\\n",
      "age_group                                                         \n",
      "18-20                  108829           949874           458770   \n",
      "21-30                  374754          3125610          1554217   \n",
      "31-40                  361185          3146594          1535316   \n",
      "41-50                  211695           662440          1902950   \n",
      "51-60                  228302           672214          1888762   \n",
      "61-70                  225068           638537          1885191   \n",
      "71-80                  212170           660399          1922703   \n",
      "80+                     24206            66963           188684   \n",
      "\n",
      "income_range  120000 - 160000  160000 - 210000  210000 - 523000  over 523000  \n",
      "age_group                                                                     \n",
      "18-20                    6473             7419             2814            0  \n",
      "21-30                   20068            21787            17045            0  \n",
      "31-40                   22567            21412            20093            0  \n",
      "41-50                 1802686           489409            55911         4107  \n",
      "51-60                 1794845           469544            40390         3114  \n",
      "61-70                 1778569           466331            46080         1630  \n",
      "71-80                 1798420           463860            43350         4696  \n",
      "80+                    189355            38860             3889         1111  \n"
     ]
    }
   ],
   "source": [
    "#checking correlation by creating crosstab for age_group and income_range\n",
    "crosstab_age_income = pd.crosstab(df_merged['age_group'], df_merged['income_range'], dropna = False)\n",
    "print(crosstab_age_income)\n",
    "crosstab_age_income.to_clipboard()"
   ]
  },
  {
   "cell_type": "code",
   "execution_count": 62,
   "id": "6431676e",
   "metadata": {},
   "outputs": [
    {
     "data": {
      "image/png": "[encoded data removed]",
      "text/plain": [
       "<Figure size 432x288 with 1 Axes>"
      ]
     },
     "metadata": {
      "needs_background": "light"
     },
     "output_type": "display_data"
    }
   ],
   "source": [
    "#creating visualizations for our crosstab_age_income\n",
    "crosstab_age_income_graph = crosstab_age_income.plot(kind='bar', color =C,stacked = True )"
   ]
  },
  {
   "cell_type": "code",
   "execution_count": 32,
   "id": "ada16f00",
   "metadata": {},
   "outputs": [],
   "source": [
    "#saving our good old visualization for age_income correlation\n",
    "crosstab_age_income_graph.figure.savefig(os.path.join(path,'04 Analysis','visualizations','age_income.png'))"
   ]
  },
  {
   "cell_type": "code",
   "execution_count": 93,
   "id": "28397846",
   "metadata": {},
   "outputs": [
    {
     "name": "stdout",
     "output_type": "stream",
     "text": [
      "frequency_flag  Loyal customer  New customer  Regular customer\n",
      "age_group                                                     \n",
      "18-20                   486031        262485            785663\n",
      "21-30                  1651506        880479           2581496\n",
      "31-40                  1678233        855879           2573055\n",
      "41-50                  1690812        872472           2565914\n",
      "51-60                  1667348        877905           2551918\n",
      "61-70                  1666308        873099           2501999\n",
      "71-80                  1672622        867677           2565299\n",
      "80+                     166718         90222            256128\n"
     ]
    }
   ],
   "source": [
    "#checking correlation by creating crosstab for age_group and loyalty_flag\n",
    "crosstab_age_loyalty = pd.crosstab(df_merged['age_group'], df_merged['frequency_flag'], dropna = False)\n",
    "print(crosstab_age_loyalty)\n",
    "crosstab_age_loyalty.to_clipboard()"
   ]
  },
  {
   "cell_type": "code",
   "execution_count": 94,
   "id": "26b96666",
   "metadata": {},
   "outputs": [
    {
     "data": {
      "image/png": "[encoded data removed]",
      "text/plain": [
       "<Figure size 432x288 with 1 Axes>"
      ]
     },
     "metadata": {
      "needs_background": "light"
     },
     "output_type": "display_data"
    }
   ],
   "source": [
    "#visualization of family status by region\n",
    "crosstab_age_loyalty_graph = crosstab_age_loyalty.plot(kind='bar', color = sns.color_palette('pastel'),stacked = True )"
   ]
  },
  {
   "cell_type": "markdown",
   "id": "48e38263",
   "metadata": {},
   "source": [
    "__7. Aggregate the max, mean, and min variables on a customer-profile level for usage frequency and expenditure.__"
   ]
  },
  {
   "cell_type": "code",
   "execution_count": 21,
   "id": "d5690f41",
   "metadata": {},
   "outputs": [
    {
     "data": {
      "text/html": [
       "<div>\n",
       "<style scoped>\n",
       "    .dataframe tbody tr th:only-of-type {\n",
       "        vertical-align: middle;\n",
       "    }\n",
       "\n",
       "    .dataframe tbody tr th {\n",
       "        vertical-align: top;\n",
       "    }\n",
       "\n",
       "    .dataframe thead tr th {\n",
       "        text-align: left;\n",
       "    }\n",
       "\n",
       "    .dataframe thead tr:last-of-type th {\n",
       "        text-align: right;\n",
       "    }\n",
       "</style>\n",
       "<table border=\"1\" class=\"dataframe\">\n",
       "  <thead>\n",
       "    <tr>\n",
       "      <th></th>\n",
       "      <th colspan=\"3\" halign=\"left\">days_since_prior_order</th>\n",
       "    </tr>\n",
       "    <tr>\n",
       "      <th></th>\n",
       "      <th>mean</th>\n",
       "      <th>min</th>\n",
       "      <th>max</th>\n",
       "    </tr>\n",
       "    <tr>\n",
       "      <th>frequency_flag</th>\n",
       "      <th></th>\n",
       "      <th></th>\n",
       "      <th></th>\n",
       "    </tr>\n",
       "  </thead>\n",
       "  <tbody>\n",
       "    <tr>\n",
       "      <th>Loyal customer</th>\n",
       "      <td>6.113281</td>\n",
       "      <td>0.0</td>\n",
       "      <td>30.0</td>\n",
       "    </tr>\n",
       "    <tr>\n",
       "      <th>New customer</th>\n",
       "      <td>18.250000</td>\n",
       "      <td>0.0</td>\n",
       "      <td>30.0</td>\n",
       "    </tr>\n",
       "    <tr>\n",
       "      <th>Regular customer</th>\n",
       "      <td>12.453125</td>\n",
       "      <td>0.0</td>\n",
       "      <td>30.0</td>\n",
       "    </tr>\n",
       "  </tbody>\n",
       "</table>\n",
       "</div>"
      ],
      "text/plain": [
       "                 days_since_prior_order           \n",
       "                                   mean  min   max\n",
       "frequency_flag                                    \n",
       "Loyal customer                 6.113281  0.0  30.0\n",
       "New customer                  18.250000  0.0  30.0\n",
       "Regular customer              12.453125  0.0  30.0"
      ]
     },
     "execution_count": 21,
     "metadata": {},
     "output_type": "execute_result"
    }
   ],
   "source": [
    "df_merged.groupby('frequency_flag').agg({'days_since_prior_order': ['mean', 'min', 'max']})"
   ]
  },
  {
   "cell_type": "code",
   "execution_count": 55,
   "id": "787aa114",
   "metadata": {},
   "outputs": [
    {
     "data": {
      "text/html": [
       "<div>\n",
       "<style scoped>\n",
       "    .dataframe tbody tr th:only-of-type {\n",
       "        vertical-align: middle;\n",
       "    }\n",
       "\n",
       "    .dataframe tbody tr th {\n",
       "        vertical-align: top;\n",
       "    }\n",
       "\n",
       "    .dataframe thead tr th {\n",
       "        text-align: left;\n",
       "    }\n",
       "\n",
       "    .dataframe thead tr:last-of-type th {\n",
       "        text-align: right;\n",
       "    }\n",
       "</style>\n",
       "<table border=\"1\" class=\"dataframe\">\n",
       "  <thead>\n",
       "    <tr>\n",
       "      <th></th>\n",
       "      <th colspan=\"3\" halign=\"left\">prices</th>\n",
       "    </tr>\n",
       "    <tr>\n",
       "      <th></th>\n",
       "      <th>mean</th>\n",
       "      <th>min</th>\n",
       "      <th>max</th>\n",
       "    </tr>\n",
       "    <tr>\n",
       "      <th>age_group</th>\n",
       "      <th></th>\n",
       "      <th></th>\n",
       "      <th></th>\n",
       "    </tr>\n",
       "  </thead>\n",
       "  <tbody>\n",
       "    <tr>\n",
       "      <th>18-20</th>\n",
       "      <td>7.795291</td>\n",
       "      <td>1.0</td>\n",
       "      <td>25.0</td>\n",
       "    </tr>\n",
       "    <tr>\n",
       "      <th>21-30</th>\n",
       "      <td>7.778352</td>\n",
       "      <td>1.0</td>\n",
       "      <td>25.0</td>\n",
       "    </tr>\n",
       "    <tr>\n",
       "      <th>31-40</th>\n",
       "      <td>7.791846</td>\n",
       "      <td>1.0</td>\n",
       "      <td>25.0</td>\n",
       "    </tr>\n",
       "    <tr>\n",
       "      <th>41-50</th>\n",
       "      <td>7.800425</td>\n",
       "      <td>1.0</td>\n",
       "      <td>25.0</td>\n",
       "    </tr>\n",
       "    <tr>\n",
       "      <th>51-60</th>\n",
       "      <td>7.781060</td>\n",
       "      <td>1.0</td>\n",
       "      <td>25.0</td>\n",
       "    </tr>\n",
       "    <tr>\n",
       "      <th>61-70</th>\n",
       "      <td>7.799260</td>\n",
       "      <td>1.0</td>\n",
       "      <td>25.0</td>\n",
       "    </tr>\n",
       "    <tr>\n",
       "      <th>71-80</th>\n",
       "      <td>7.791802</td>\n",
       "      <td>1.0</td>\n",
       "      <td>25.0</td>\n",
       "    </tr>\n",
       "    <tr>\n",
       "      <th>80+</th>\n",
       "      <td>7.802611</td>\n",
       "      <td>1.0</td>\n",
       "      <td>25.0</td>\n",
       "    </tr>\n",
       "  </tbody>\n",
       "</table>\n",
       "</div>"
      ],
      "text/plain": [
       "             prices           \n",
       "               mean  min   max\n",
       "age_group                     \n",
       "18-20      7.795291  1.0  25.0\n",
       "21-30      7.778352  1.0  25.0\n",
       "31-40      7.791846  1.0  25.0\n",
       "41-50      7.800425  1.0  25.0\n",
       "51-60      7.781060  1.0  25.0\n",
       "61-70      7.799260  1.0  25.0\n",
       "71-80      7.791802  1.0  25.0\n",
       "80+        7.802611  1.0  25.0"
      ]
     },
     "execution_count": 55,
     "metadata": {},
     "output_type": "execute_result"
    }
   ],
   "source": [
    "df_merged.groupby('age_group').agg({'prices': ['mean', 'min', 'max']})"
   ]
  },
  {
   "cell_type": "code",
   "execution_count": 56,
   "id": "c1eaa8c7",
   "metadata": {},
   "outputs": [
    {
     "data": {
      "text/html": [
       "<div>\n",
       "<style scoped>\n",
       "    .dataframe tbody tr th:only-of-type {\n",
       "        vertical-align: middle;\n",
       "    }\n",
       "\n",
       "    .dataframe tbody tr th {\n",
       "        vertical-align: top;\n",
       "    }\n",
       "\n",
       "    .dataframe thead tr th {\n",
       "        text-align: left;\n",
       "    }\n",
       "\n",
       "    .dataframe thead tr:last-of-type th {\n",
       "        text-align: right;\n",
       "    }\n",
       "</style>\n",
       "<table border=\"1\" class=\"dataframe\">\n",
       "  <thead>\n",
       "    <tr>\n",
       "      <th></th>\n",
       "      <th colspan=\"3\" halign=\"left\">prices</th>\n",
       "    </tr>\n",
       "    <tr>\n",
       "      <th></th>\n",
       "      <th>mean</th>\n",
       "      <th>min</th>\n",
       "      <th>max</th>\n",
       "    </tr>\n",
       "    <tr>\n",
       "      <th>income_range</th>\n",
       "      <th></th>\n",
       "      <th></th>\n",
       "      <th></th>\n",
       "    </tr>\n",
       "  </thead>\n",
       "  <tbody>\n",
       "    <tr>\n",
       "      <th>025000 - 040000</th>\n",
       "      <td>6.495156</td>\n",
       "      <td>1.0</td>\n",
       "      <td>25.0</td>\n",
       "    </tr>\n",
       "    <tr>\n",
       "      <th>040000 - 080000</th>\n",
       "      <td>7.659072</td>\n",
       "      <td>1.0</td>\n",
       "      <td>25.0</td>\n",
       "    </tr>\n",
       "    <tr>\n",
       "      <th>080000 - 120000</th>\n",
       "      <td>7.963002</td>\n",
       "      <td>1.0</td>\n",
       "      <td>25.0</td>\n",
       "    </tr>\n",
       "    <tr>\n",
       "      <th>120000 - 160000</th>\n",
       "      <td>7.964131</td>\n",
       "      <td>1.0</td>\n",
       "      <td>25.0</td>\n",
       "    </tr>\n",
       "    <tr>\n",
       "      <th>160000 - 210000</th>\n",
       "      <td>7.957341</td>\n",
       "      <td>1.0</td>\n",
       "      <td>25.0</td>\n",
       "    </tr>\n",
       "    <tr>\n",
       "      <th>210000 - 523000</th>\n",
       "      <td>7.778905</td>\n",
       "      <td>1.0</td>\n",
       "      <td>25.0</td>\n",
       "    </tr>\n",
       "    <tr>\n",
       "      <th>over 523000</th>\n",
       "      <td>7.637082</td>\n",
       "      <td>1.0</td>\n",
       "      <td>25.0</td>\n",
       "    </tr>\n",
       "  </tbody>\n",
       "</table>\n",
       "</div>"
      ],
      "text/plain": [
       "                   prices           \n",
       "                     mean  min   max\n",
       "income_range                        \n",
       "025000 - 040000  6.495156  1.0  25.0\n",
       "040000 - 080000  7.659072  1.0  25.0\n",
       "080000 - 120000  7.963002  1.0  25.0\n",
       "120000 - 160000  7.964131  1.0  25.0\n",
       "160000 - 210000  7.957341  1.0  25.0\n",
       "210000 - 523000  7.778905  1.0  25.0\n",
       "over 523000      7.637082  1.0  25.0"
      ]
     },
     "execution_count": 56,
     "metadata": {},
     "output_type": "execute_result"
    }
   ],
   "source": [
    "df_merged.groupby('income_range').agg({'prices': ['mean', 'min', 'max']})"
   ]
  },
  {
   "cell_type": "code",
   "execution_count": 57,
   "id": "09d78d5e",
   "metadata": {},
   "outputs": [
    {
     "data": {
      "text/html": [
       "<div>\n",
       "<style scoped>\n",
       "    .dataframe tbody tr th:only-of-type {\n",
       "        vertical-align: middle;\n",
       "    }\n",
       "\n",
       "    .dataframe tbody tr th {\n",
       "        vertical-align: top;\n",
       "    }\n",
       "\n",
       "    .dataframe thead tr th {\n",
       "        text-align: left;\n",
       "    }\n",
       "\n",
       "    .dataframe thead tr:last-of-type th {\n",
       "        text-align: right;\n",
       "    }\n",
       "</style>\n",
       "<table border=\"1\" class=\"dataframe\">\n",
       "  <thead>\n",
       "    <tr>\n",
       "      <th></th>\n",
       "      <th colspan=\"3\" halign=\"left\">prices</th>\n",
       "    </tr>\n",
       "    <tr>\n",
       "      <th></th>\n",
       "      <th>mean</th>\n",
       "      <th>min</th>\n",
       "      <th>max</th>\n",
       "    </tr>\n",
       "    <tr>\n",
       "      <th>parental_status</th>\n",
       "      <th></th>\n",
       "      <th></th>\n",
       "      <th></th>\n",
       "    </tr>\n",
       "  </thead>\n",
       "  <tbody>\n",
       "    <tr>\n",
       "      <th>non parent</th>\n",
       "      <td>7.789847</td>\n",
       "      <td>1.0</td>\n",
       "      <td>25.0</td>\n",
       "    </tr>\n",
       "    <tr>\n",
       "      <th>parent</th>\n",
       "      <td>7.791204</td>\n",
       "      <td>1.0</td>\n",
       "      <td>25.0</td>\n",
       "    </tr>\n",
       "  </tbody>\n",
       "</table>\n",
       "</div>"
      ],
      "text/plain": [
       "                   prices           \n",
       "                     mean  min   max\n",
       "parental_status                     \n",
       "non parent       7.789847  1.0  25.0\n",
       "parent           7.791204  1.0  25.0"
      ]
     },
     "execution_count": 57,
     "metadata": {},
     "output_type": "execute_result"
    }
   ],
   "source": [
    "df_merged.groupby('parental_status').agg({'prices': ['mean', 'min', 'max']})"
   ]
  },
  {
   "cell_type": "code",
   "execution_count": 58,
   "id": "3ff443e7",
   "metadata": {},
   "outputs": [
    {
     "data": {
      "text/html": [
       "<div>\n",
       "<style scoped>\n",
       "    .dataframe tbody tr th:only-of-type {\n",
       "        vertical-align: middle;\n",
       "    }\n",
       "\n",
       "    .dataframe tbody tr th {\n",
       "        vertical-align: top;\n",
       "    }\n",
       "\n",
       "    .dataframe thead tr th {\n",
       "        text-align: left;\n",
       "    }\n",
       "\n",
       "    .dataframe thead tr:last-of-type th {\n",
       "        text-align: right;\n",
       "    }\n",
       "</style>\n",
       "<table border=\"1\" class=\"dataframe\">\n",
       "  <thead>\n",
       "    <tr>\n",
       "      <th></th>\n",
       "      <th colspan=\"3\" halign=\"left\">prices</th>\n",
       "    </tr>\n",
       "    <tr>\n",
       "      <th></th>\n",
       "      <th>mean</th>\n",
       "      <th>min</th>\n",
       "      <th>max</th>\n",
       "    </tr>\n",
       "    <tr>\n",
       "      <th>region</th>\n",
       "      <th></th>\n",
       "      <th></th>\n",
       "      <th></th>\n",
       "    </tr>\n",
       "  </thead>\n",
       "  <tbody>\n",
       "    <tr>\n",
       "      <th>Midwest</th>\n",
       "      <td>7.792455</td>\n",
       "      <td>1.0</td>\n",
       "      <td>25.0</td>\n",
       "    </tr>\n",
       "    <tr>\n",
       "      <th>Northeast</th>\n",
       "      <td>7.784164</td>\n",
       "      <td>1.0</td>\n",
       "      <td>25.0</td>\n",
       "    </tr>\n",
       "    <tr>\n",
       "      <th>South</th>\n",
       "      <td>7.795916</td>\n",
       "      <td>1.0</td>\n",
       "      <td>25.0</td>\n",
       "    </tr>\n",
       "    <tr>\n",
       "      <th>West</th>\n",
       "      <td>7.787568</td>\n",
       "      <td>1.0</td>\n",
       "      <td>25.0</td>\n",
       "    </tr>\n",
       "  </tbody>\n",
       "</table>\n",
       "</div>"
      ],
      "text/plain": [
       "             prices           \n",
       "               mean  min   max\n",
       "region                        \n",
       "Midwest    7.792455  1.0  25.0\n",
       "Northeast  7.784164  1.0  25.0\n",
       "South      7.795916  1.0  25.0\n",
       "West       7.787568  1.0  25.0"
      ]
     },
     "execution_count": 58,
     "metadata": {},
     "output_type": "execute_result"
    }
   ],
   "source": [
    "df_merged.groupby('region').agg({'prices': ['mean', 'min', 'max']})"
   ]
  },
  {
   "cell_type": "markdown",
   "id": "15c8a76d",
   "metadata": {},
   "source": [
    "__8.Compare your customer profiles with regions and departments. Can you identify a link between them? Customers may demonstrate different behaviors across regions, which could make this information important.__"
   ]
  },
  {
   "cell_type": "markdown",
   "id": "d5f17531",
   "metadata": {},
   "source": [
    "The answer for this is on the Excell Sheet"
   ]
  },
  {
   "cell_type": "markdown",
   "id": "d425034f",
   "metadata": {},
   "source": [
    "__9.Produce suitable charts to illustrate your results and export them in your project folder.__"
   ]
  },
  {
   "cell_type": "markdown",
   "id": "5c251ebe",
   "metadata": {},
   "source": [
    "All the charts are added on the Excell Sheet\n"
   ]
  },
  {
   "cell_type": "markdown",
   "id": "790090ee",
   "metadata": {},
   "source": [
    "__10.Tidy up your script, export your final data set, and save your notebook.__"
   ]
  },
  {
   "cell_type": "markdown",
   "id": "3da2bdc1",
   "metadata": {},
   "source": []
  }
 ],
 "metadata": {
  "kernelspec": {
   "display_name": "Python 3",
   "language": "python",
   "name": "python3"
  },
  "language_info": {
   "codemirror_mode": {
    "name": "ipython",
    "version": 3
   },
   "file_extension": ".py",
   "mimetype": "text/x-python",
   "name": "python",
   "nbconvert_exporter": "python",
   "pygments_lexer": "ipython3",
   "version": "3.8.8"
  }
 },
 "nbformat": 4,
 "nbformat_minor": 5
}
