{
 "cells": [
  {
   "cell_type": "code",
   "execution_count": 1,
   "id": "81e07fc7",
   "metadata": {},
   "outputs": [],
   "source": [
    "#importing library\n",
    "import pandas as pd\n",
    "import numpy as np\n",
    "import os\n",
    "import matplotlib.pyplot as plt\n",
    "import seaborn as sns\n",
    "import scipy\n"
   ]
  },
  {
   "cell_type": "markdown",
   "id": "d7e779a1",
   "metadata": {},
   "source": [
    "__1. Importing Data__"
   ]
  },
  {
   "cell_type": "code",
   "execution_count": 2,
   "id": "62f0e087",
   "metadata": {},
   "outputs": [],
   "source": [
    "#importing our brand new data set from 4.9 part 1\n",
    "df = pd.read_pickle(r'/Users/rayruslijunior/11-2021 Instacart Basket Analysis/02 Data/Prepared Data/ords_prods_cust(4.9).pkl')"
   ]
  },
  {
   "cell_type": "code",
   "execution_count": 3,
   "id": "fbc11ab6",
   "metadata": {},
   "outputs": [],
   "source": [
    "pd.set_option('display.max_columns', None)"
   ]
  },
  {
   "cell_type": "code",
   "execution_count": 4,
   "id": "790ee0b7",
   "metadata": {},
   "outputs": [
    {
     "data": {
      "text/html": [
       "<div>\n",
       "<style scoped>\n",
       "    .dataframe tbody tr th:only-of-type {\n",
       "        vertical-align: middle;\n",
       "    }\n",
       "\n",
       "    .dataframe tbody tr th {\n",
       "        vertical-align: top;\n",
       "    }\n",
       "\n",
       "    .dataframe thead th {\n",
       "        text-align: right;\n",
       "    }\n",
       "</style>\n",
       "<table border=\"1\" class=\"dataframe\">\n",
       "  <thead>\n",
       "    <tr style=\"text-align: right;\">\n",
       "      <th></th>\n",
       "      <th>order_id</th>\n",
       "      <th>user_id</th>\n",
       "      <th>order_number</th>\n",
       "      <th>order_dow</th>\n",
       "      <th>order_hour_of_day</th>\n",
       "      <th>days_since_prior_order</th>\n",
       "      <th>first_order</th>\n",
       "      <th>product_id</th>\n",
       "      <th>add_to_cart_order</th>\n",
       "      <th>product_name</th>\n",
       "      <th>aisle_id</th>\n",
       "      <th>department_id</th>\n",
       "      <th>prices</th>\n",
       "      <th>price_range_loc</th>\n",
       "      <th>busiest_day</th>\n",
       "      <th>busiest_days</th>\n",
       "      <th>busiest_period_of_day</th>\n",
       "      <th>max_order</th>\n",
       "      <th>loyalty_flag</th>\n",
       "      <th>spending</th>\n",
       "      <th>spending_flag</th>\n",
       "      <th>frequency</th>\n",
       "      <th>frequency_flag</th>\n",
       "      <th>surname</th>\n",
       "      <th>gender</th>\n",
       "      <th>state</th>\n",
       "      <th>age</th>\n",
       "      <th>date_joined</th>\n",
       "      <th>n_dependants</th>\n",
       "      <th>fam_status</th>\n",
       "      <th>income</th>\n",
       "      <th>_merge</th>\n",
       "    </tr>\n",
       "  </thead>\n",
       "  <tbody>\n",
       "    <tr>\n",
       "      <th>0</th>\n",
       "      <td>2539329</td>\n",
       "      <td>1</td>\n",
       "      <td>1</td>\n",
       "      <td>2</td>\n",
       "      <td>8</td>\n",
       "      <td>NaN</td>\n",
       "      <td>True</td>\n",
       "      <td>196.0</td>\n",
       "      <td>1.0</td>\n",
       "      <td>Soda</td>\n",
       "      <td>77.0</td>\n",
       "      <td>7.0</td>\n",
       "      <td>9.000000</td>\n",
       "      <td>Regular customer</td>\n",
       "      <td>Mid-range product</td>\n",
       "      <td>Regularly busy days</td>\n",
       "      <td>Average orders</td>\n",
       "      <td>11</td>\n",
       "      <td>Regularly busy</td>\n",
       "      <td>6.367188</td>\n",
       "      <td>Low Spender</td>\n",
       "      <td>20</td>\n",
       "      <td>Regular customer</td>\n",
       "      <td>Nguyen</td>\n",
       "      <td>Female</td>\n",
       "      <td>Alabama</td>\n",
       "      <td>31</td>\n",
       "      <td>2/17/2019</td>\n",
       "      <td>3</td>\n",
       "      <td>married</td>\n",
       "      <td>40423</td>\n",
       "      <td>both</td>\n",
       "    </tr>\n",
       "    <tr>\n",
       "      <th>1</th>\n",
       "      <td>2539329</td>\n",
       "      <td>1</td>\n",
       "      <td>1</td>\n",
       "      <td>2</td>\n",
       "      <td>8</td>\n",
       "      <td>NaN</td>\n",
       "      <td>True</td>\n",
       "      <td>14084.0</td>\n",
       "      <td>2.0</td>\n",
       "      <td>Organic Unsweetened Vanilla Almond Milk</td>\n",
       "      <td>91.0</td>\n",
       "      <td>16.0</td>\n",
       "      <td>12.500000</td>\n",
       "      <td>Regular customer</td>\n",
       "      <td>Mid-range product</td>\n",
       "      <td>Regularly busy days</td>\n",
       "      <td>Average orders</td>\n",
       "      <td>11</td>\n",
       "      <td>Regularly busy</td>\n",
       "      <td>6.367188</td>\n",
       "      <td>Low Spender</td>\n",
       "      <td>20</td>\n",
       "      <td>Regular customer</td>\n",
       "      <td>Nguyen</td>\n",
       "      <td>Female</td>\n",
       "      <td>Alabama</td>\n",
       "      <td>31</td>\n",
       "      <td>2/17/2019</td>\n",
       "      <td>3</td>\n",
       "      <td>married</td>\n",
       "      <td>40423</td>\n",
       "      <td>both</td>\n",
       "    </tr>\n",
       "    <tr>\n",
       "      <th>2</th>\n",
       "      <td>2539329</td>\n",
       "      <td>1</td>\n",
       "      <td>1</td>\n",
       "      <td>2</td>\n",
       "      <td>8</td>\n",
       "      <td>NaN</td>\n",
       "      <td>True</td>\n",
       "      <td>12427.0</td>\n",
       "      <td>3.0</td>\n",
       "      <td>Original Beef Jerky</td>\n",
       "      <td>23.0</td>\n",
       "      <td>19.0</td>\n",
       "      <td>4.398438</td>\n",
       "      <td>Regular customer</td>\n",
       "      <td>Low-range product</td>\n",
       "      <td>Regularly busy days</td>\n",
       "      <td>Average orders</td>\n",
       "      <td>11</td>\n",
       "      <td>Regularly busy</td>\n",
       "      <td>6.367188</td>\n",
       "      <td>Low Spender</td>\n",
       "      <td>20</td>\n",
       "      <td>Regular customer</td>\n",
       "      <td>Nguyen</td>\n",
       "      <td>Female</td>\n",
       "      <td>Alabama</td>\n",
       "      <td>31</td>\n",
       "      <td>2/17/2019</td>\n",
       "      <td>3</td>\n",
       "      <td>married</td>\n",
       "      <td>40423</td>\n",
       "      <td>both</td>\n",
       "    </tr>\n",
       "    <tr>\n",
       "      <th>3</th>\n",
       "      <td>2539329</td>\n",
       "      <td>1</td>\n",
       "      <td>1</td>\n",
       "      <td>2</td>\n",
       "      <td>8</td>\n",
       "      <td>NaN</td>\n",
       "      <td>True</td>\n",
       "      <td>26088.0</td>\n",
       "      <td>4.0</td>\n",
       "      <td>Aged White Cheddar Popcorn</td>\n",
       "      <td>23.0</td>\n",
       "      <td>19.0</td>\n",
       "      <td>4.699219</td>\n",
       "      <td>Regular customer</td>\n",
       "      <td>Low-range product</td>\n",
       "      <td>Regularly busy days</td>\n",
       "      <td>Average orders</td>\n",
       "      <td>11</td>\n",
       "      <td>Regularly busy</td>\n",
       "      <td>6.367188</td>\n",
       "      <td>Low Spender</td>\n",
       "      <td>20</td>\n",
       "      <td>Regular customer</td>\n",
       "      <td>Nguyen</td>\n",
       "      <td>Female</td>\n",
       "      <td>Alabama</td>\n",
       "      <td>31</td>\n",
       "      <td>2/17/2019</td>\n",
       "      <td>3</td>\n",
       "      <td>married</td>\n",
       "      <td>40423</td>\n",
       "      <td>both</td>\n",
       "    </tr>\n",
       "    <tr>\n",
       "      <th>4</th>\n",
       "      <td>2539329</td>\n",
       "      <td>1</td>\n",
       "      <td>1</td>\n",
       "      <td>2</td>\n",
       "      <td>8</td>\n",
       "      <td>NaN</td>\n",
       "      <td>True</td>\n",
       "      <td>26405.0</td>\n",
       "      <td>5.0</td>\n",
       "      <td>XL Pick-A-Size Paper Towel Rolls</td>\n",
       "      <td>54.0</td>\n",
       "      <td>17.0</td>\n",
       "      <td>1.000000</td>\n",
       "      <td>Regular customer</td>\n",
       "      <td>Low-range product</td>\n",
       "      <td>Regularly busy days</td>\n",
       "      <td>Average orders</td>\n",
       "      <td>11</td>\n",
       "      <td>Regularly busy</td>\n",
       "      <td>6.367188</td>\n",
       "      <td>Low Spender</td>\n",
       "      <td>20</td>\n",
       "      <td>Regular customer</td>\n",
       "      <td>Nguyen</td>\n",
       "      <td>Female</td>\n",
       "      <td>Alabama</td>\n",
       "      <td>31</td>\n",
       "      <td>2/17/2019</td>\n",
       "      <td>3</td>\n",
       "      <td>married</td>\n",
       "      <td>40423</td>\n",
       "      <td>both</td>\n",
       "    </tr>\n",
       "  </tbody>\n",
       "</table>\n",
       "</div>"
      ],
      "text/plain": [
       "   order_id  user_id  order_number  order_dow  order_hour_of_day  \\\n",
       "0   2539329        1             1          2                  8   \n",
       "1   2539329        1             1          2                  8   \n",
       "2   2539329        1             1          2                  8   \n",
       "3   2539329        1             1          2                  8   \n",
       "4   2539329        1             1          2                  8   \n",
       "\n",
       "   days_since_prior_order  first_order  product_id  add_to_cart_order  \\\n",
       "0                     NaN         True       196.0                1.0   \n",
       "1                     NaN         True     14084.0                2.0   \n",
       "2                     NaN         True     12427.0                3.0   \n",
       "3                     NaN         True     26088.0                4.0   \n",
       "4                     NaN         True     26405.0                5.0   \n",
       "\n",
       "                              product_name  aisle_id  department_id  \\\n",
       "0                                     Soda      77.0            7.0   \n",
       "1  Organic Unsweetened Vanilla Almond Milk      91.0           16.0   \n",
       "2                      Original Beef Jerky      23.0           19.0   \n",
       "3               Aged White Cheddar Popcorn      23.0           19.0   \n",
       "4         XL Pick-A-Size Paper Towel Rolls      54.0           17.0   \n",
       "\n",
       "      prices   price_range_loc        busiest_day         busiest_days  \\\n",
       "0   9.000000  Regular customer  Mid-range product  Regularly busy days   \n",
       "1  12.500000  Regular customer  Mid-range product  Regularly busy days   \n",
       "2   4.398438  Regular customer  Low-range product  Regularly busy days   \n",
       "3   4.699219  Regular customer  Low-range product  Regularly busy days   \n",
       "4   1.000000  Regular customer  Low-range product  Regularly busy days   \n",
       "\n",
       "  busiest_period_of_day  max_order    loyalty_flag  spending spending_flag  \\\n",
       "0        Average orders         11  Regularly busy  6.367188   Low Spender   \n",
       "1        Average orders         11  Regularly busy  6.367188   Low Spender   \n",
       "2        Average orders         11  Regularly busy  6.367188   Low Spender   \n",
       "3        Average orders         11  Regularly busy  6.367188   Low Spender   \n",
       "4        Average orders         11  Regularly busy  6.367188   Low Spender   \n",
       "\n",
       "   frequency    frequency_flag surname  gender    state  age date_joined  \\\n",
       "0         20  Regular customer  Nguyen  Female  Alabama   31   2/17/2019   \n",
       "1         20  Regular customer  Nguyen  Female  Alabama   31   2/17/2019   \n",
       "2         20  Regular customer  Nguyen  Female  Alabama   31   2/17/2019   \n",
       "3         20  Regular customer  Nguyen  Female  Alabama   31   2/17/2019   \n",
       "4         20  Regular customer  Nguyen  Female  Alabama   31   2/17/2019   \n",
       "\n",
       "   n_dependants fam_status  income _merge  \n",
       "0             3    married   40423   both  \n",
       "1             3    married   40423   both  \n",
       "2             3    married   40423   both  \n",
       "3             3    married   40423   both  \n",
       "4             3    married   40423   both  "
      ]
     },
     "execution_count": 4,
     "metadata": {},
     "output_type": "execute_result"
    }
   ],
   "source": [
    "df.head()"
   ]
  },
  {
   "cell_type": "markdown",
   "id": "f3e30a45",
   "metadata": {},
   "source": [
    "__2. Creating A Bar chart, Histogram, Scatterplot and a Line Chart__"
   ]
  },
  {
   "cell_type": "markdown",
   "id": "966976cd",
   "metadata": {},
   "source": [
    "__2.1 Bar Chart__"
   ]
  },
  {
   "cell_type": "code",
   "execution_count": 5,
   "id": "3d254fde",
   "metadata": {},
   "outputs": [
    {
     "data": {
      "text/plain": [
       "<AxesSubplot:>"
      ]
     },
     "execution_count": 5,
     "metadata": {},
     "output_type": "execute_result"
    },
    {
     "data": {
      "image/png": "[encoded data removed]",
      "text/plain": [
       "<Figure size 432x288 with 1 Axes>"
      ]
     },
     "metadata": {
      "needs_background": "light"
     },
     "output_type": "display_data"
    }
   ],
   "source": [
    "df['order_dow'].value_counts().plot.bar()"
   ]
  },
  {
   "cell_type": "code",
   "execution_count": 6,
   "id": "9a11f01b",
   "metadata": {},
   "outputs": [
    {
     "data": {
      "text/plain": [
       "0    6252941\n",
       "1    5696724\n",
       "6    4530304\n",
       "2    4243173\n",
       "5    4236989\n",
       "3    3868747\n",
       "4    3812390\n",
       "Name: order_dow, dtype: int64"
      ]
     },
     "execution_count": 6,
     "metadata": {},
     "output_type": "execute_result"
    }
   ],
   "source": [
    "df['order_dow'].value_counts(dropna= False)"
   ]
  },
  {
   "cell_type": "code",
   "execution_count": 7,
   "id": "a8c04bf7",
   "metadata": {},
   "outputs": [
    {
     "data": {
      "text/plain": [
       "0    6252941\n",
       "1    5696724\n",
       "2    4243173\n",
       "3    3868747\n",
       "4    3812390\n",
       "5    4236989\n",
       "6    4530304\n",
       "Name: order_dow, dtype: int64"
      ]
     },
     "execution_count": 7,
     "metadata": {},
     "output_type": "execute_result"
    }
   ],
   "source": [
    "df['order_dow'].value_counts(dropna= False).sort_index()"
   ]
  },
  {
   "cell_type": "code",
   "execution_count": 17,
   "id": "0337ce61",
   "metadata": {},
   "outputs": [
    {
     "data": {
      "image/png": "[encoded data removed]",
      "text/plain": [
       "<Figure size 432x288 with 1 Axes>"
      ]
     },
     "metadata": {
      "needs_background": "light"
     },
     "output_type": "display_data"
    }
   ],
   "source": [
    "bar1 = df['order_dow'].value_counts().plot.bar()"
   ]
  },
  {
   "cell_type": "markdown",
   "id": "eb97c0c0",
   "metadata": {},
   "source": [
    "__2.2. Histogram__"
   ]
  },
  {
   "cell_type": "code",
   "execution_count": 16,
   "id": "a1122d7c",
   "metadata": {},
   "outputs": [
    {
     "data": {
      "image/png": "[encoded data removed]",
      "text/plain": [
       "<Figure size 432x288 with 1 Axes>"
      ]
     },
     "metadata": {
      "needs_background": "light"
     },
     "output_type": "display_data"
    }
   ],
   "source": [
    "hist1 = df['prices'].plot.hist(bins = 70)"
   ]
  },
  {
   "cell_type": "markdown",
   "id": "88dc30f1",
   "metadata": {},
   "source": [
    "__2.3 Scatterplot__"
   ]
  },
  {
   "cell_type": "code",
   "execution_count": 18,
   "id": "bdd6d86b",
   "metadata": {},
   "outputs": [
    {
     "data": {
      "text/plain": [
       "<AxesSubplot:xlabel='prices', ylabel='prices'>"
      ]
     },
     "execution_count": 18,
     "metadata": {},
     "output_type": "execute_result"
    },
    {
     "data": {
      "image/png": "[encoded data removed]",
      "text/plain": [
       "<Figure size 432x288 with 1 Axes>"
      ]
     },
     "metadata": {
      "needs_background": "light"
     },
     "output_type": "display_data"
    }
   ],
   "source": [
    "sns.scatterplot(x = 'prices', y = 'prices',data = df)"
   ]
  },
  {
   "cell_type": "markdown",
   "id": "c7540676",
   "metadata": {},
   "source": [
    "__2.4 Line Chart__"
   ]
  },
  {
   "cell_type": "markdown",
   "id": "a6965e8b",
   "metadata": {},
   "source": [
    "__2.4.1. Sampling__"
   ]
  },
  {
   "cell_type": "code",
   "execution_count": 20,
   "id": "e9e05e8b",
   "metadata": {},
   "outputs": [],
   "source": [
    "#getting a sample of the data - setting random seed\n",
    "np.random.seed(4)"
   ]
  },
  {
   "cell_type": "code",
   "execution_count": 21,
   "id": "64b89c34",
   "metadata": {},
   "outputs": [],
   "source": [
    "# list storing boolean values\n",
    "dev = np.random.rand(len(df)) <= 0.7"
   ]
  },
  {
   "cell_type": "code",
   "execution_count": 22,
   "id": "b177904e",
   "metadata": {},
   "outputs": [],
   "source": [
    "# split df in to two samples\n",
    "big = df[dev]"
   ]
  },
  {
   "cell_type": "code",
   "execution_count": 23,
   "id": "c38fb990",
   "metadata": {},
   "outputs": [],
   "source": [
    "small = df[~dev]"
   ]
  },
  {
   "cell_type": "code",
   "execution_count": 24,
   "id": "d1ab7cfc",
   "metadata": {},
   "outputs": [
    {
     "data": {
      "text/plain": [
       "32641268"
      ]
     },
     "execution_count": 24,
     "metadata": {},
     "output_type": "execute_result"
    }
   ],
   "source": [
    "# double check if it contains all the data\n",
    "len(df)"
   ]
  },
  {
   "cell_type": "code",
   "execution_count": 25,
   "id": "37f844ab",
   "metadata": {},
   "outputs": [
    {
     "data": {
      "text/plain": [
       "32641268"
      ]
     },
     "execution_count": 25,
     "metadata": {},
     "output_type": "execute_result"
    }
   ],
   "source": [
    "len(big) + len(small)"
   ]
  },
  {
   "cell_type": "markdown",
   "id": "7c18d8dc",
   "metadata": {},
   "source": [
    "__2.4.2 Line Chart__"
   ]
  },
  {
   "cell_type": "code",
   "execution_count": 27,
   "id": "6f2026bd",
   "metadata": {},
   "outputs": [],
   "source": [
    "# creating smaller df to speed up processing\n",
    "df_2 = small[['order_dow', 'prices']]"
   ]
  },
  {
   "cell_type": "code",
   "execution_count": 29,
   "id": "eba43547",
   "metadata": {},
   "outputs": [
    {
     "data": {
      "image/png": "[encoded data removed]",
      "text/plain": [
       "<Figure size 432x288 with 1 Axes>"
      ]
     },
     "metadata": {
      "needs_background": "light"
     },
     "output_type": "display_data"
    }
   ],
   "source": [
    "line = sns.lineplot(data = df_2, x = 'order_dow', y = 'prices')"
   ]
  },
  {
   "cell_type": "markdown",
   "id": "8e552428",
   "metadata": {},
   "source": [
    "__3.You need to provide the Instacart senior stakeholders with descriptive findings about sales. Create a histogram of the “order_hour_of_day” column.__"
   ]
  },
  {
   "cell_type": "code",
   "execution_count": 30,
   "id": "de3d55e4",
   "metadata": {},
   "outputs": [
    {
     "data": {
      "image/png": "[encoded data removed]",
      "text/plain": [
       "<Figure size 432x288 with 1 Axes>"
      ]
     },
     "metadata": {
      "needs_background": "light"
     },
     "output_type": "display_data"
    }
   ],
   "source": [
    "hist2 = df['order_hour_of_day'].plot.hist(bins = 24)"
   ]
  },
  {
   "cell_type": "markdown",
   "id": "d9691eae",
   "metadata": {},
   "source": [
    "#This histogram shows us that highest number of orders submitted at Instacart happens during the day :-)"
   ]
  },
  {
   "cell_type": "markdown",
   "id": "db8593b0",
   "metadata": {},
   "source": [
    "__4.The marketing team is curious about the distribution of orders among customers in terms of loyalty. Create a bar chart from the “loyalty_flag” column.__"
   ]
  },
  {
   "cell_type": "code",
   "execution_count": 33,
   "id": "8183cb1f",
   "metadata": {},
   "outputs": [
    {
     "data": {
      "image/png": "[encoded data removed]",
      "text/plain": [
       "<Figure size 432x288 with 1 Axes>"
      ]
     },
     "metadata": {
      "needs_background": "light"
     },
     "output_type": "display_data"
    }
   ],
   "source": [
    "bar2 = df['frequency_flag'].value_counts().plot.bar()"
   ]
  },
  {
   "cell_type": "markdown",
   "id": "d031739d",
   "metadata": {},
   "source": [
    "__5. Check whether there’s a difference in expenditure (the “prices” column) depending on the hour of the day. (Hint: To check this, you need to use an accurate sample for your line chart!)__"
   ]
  },
  {
   "cell_type": "code",
   "execution_count": 34,
   "id": "826e6a9e",
   "metadata": {},
   "outputs": [
    {
     "data": {
      "image/png": "[encoded data removed]",
      "text/plain": [
       "<Figure size 432x288 with 1 Axes>"
      ]
     },
     "metadata": {
      "needs_background": "light"
     },
     "output_type": "display_data"
    }
   ],
   "source": [
    "line_2 = sns.lineplot(data = df, x = 'order_hour_of_day', y = 'prices')"
   ]
  },
  {
   "cell_type": "markdown",
   "id": "4400df3e",
   "metadata": {},
   "source": [
    "__6.Now that you have information about customers, you need to conduct some exploratory analysis of customer demographics to inform the targeted marketing campaigns. First, determine whether there’s a connection between age and family status by creating a line chart exploring the connections between age and number of dependents__"
   ]
  },
  {
   "cell_type": "code",
   "execution_count": 35,
   "id": "50bc782c",
   "metadata": {},
   "outputs": [
    {
     "data": {
      "image/png": "[encoded data removed]",
      "text/plain": [
       "<Figure size 432x288 with 1 Axes>"
      ]
     },
     "metadata": {
      "needs_background": "light"
     },
     "output_type": "display_data"
    }
   ],
   "source": [
    "line_3 = sns.lineplot(data = df, x = 'n_dependants', y = 'age')"
   ]
  },
  {
   "cell_type": "code",
   "execution_count": 36,
   "id": "0136e2bc",
   "metadata": {},
   "outputs": [
    {
     "data": {
      "text/plain": [
       "49.4653546240912"
      ]
     },
     "execution_count": 36,
     "metadata": {},
     "output_type": "execute_result"
    }
   ],
   "source": [
    "df['age'].mean()"
   ]
  },
  {
   "cell_type": "markdown",
   "id": "c913621d",
   "metadata": {},
   "source": [
    "This Instacart linechart shows the average number of dependants for customers who are the average age (49.47)."
   ]
  },
  {
   "cell_type": "markdown",
   "id": "8ba052b2",
   "metadata": {},
   "source": [
    "__7. Scatterplot__"
   ]
  },
  {
   "cell_type": "code",
   "execution_count": 37,
   "id": "2fe2c49b",
   "metadata": {},
   "outputs": [
    {
     "data": {
      "image/png": "[encoded data removed]",
      "text/plain": [
       "<Figure size 432x288 with 1 Axes>"
      ]
     },
     "metadata": {
      "needs_background": "light"
     },
     "output_type": "display_data"
    }
   ],
   "source": [
    "scatter = sns.scatterplot(data = df, x = 'age', y = 'income')"
   ]
  },
  {
   "cell_type": "markdown",
   "id": "9d6a0e2b",
   "metadata": {},
   "source": [
    "#Scatterplot shows a positive correlation of the higher the age, the more spending power this customer have :-)"
   ]
  },
  {
   "cell_type": "markdown",
   "id": "d9d9c0b4",
   "metadata": {},
   "source": [
    "__8 Export the visualization as png__"
   ]
  },
  {
   "cell_type": "code",
   "execution_count": 38,
   "id": "c5d04501",
   "metadata": {},
   "outputs": [],
   "source": [
    "path = r'/Users/rayruslijunior/11-2021 Instacart Basket Analysis'"
   ]
  },
  {
   "cell_type": "code",
   "execution_count": 39,
   "id": "a7e8bc6a",
   "metadata": {},
   "outputs": [],
   "source": [
    "#orders_day_of_week bar\n",
    "bar1.figure.savefig(os.path.join(path, '04 Analysis', 'Visualizations', 'orders_day_of_week_bar.png'))"
   ]
  },
  {
   "cell_type": "code",
   "execution_count": 40,
   "id": "71bd74e7",
   "metadata": {},
   "outputs": [],
   "source": [
    "#histogram price\n",
    "hist1.figure.savefig(os.path.join(path,'04 Analysis','Visualizations','price_histogram.png'))"
   ]
  },
  {
   "cell_type": "code",
   "execution_count": 41,
   "id": "0d1f4e76",
   "metadata": {},
   "outputs": [],
   "source": [
    "#line chart order_dow - price\n",
    "line.figure.savefig(os.path.join(path,'04 Analysis', 'Visualizations','order_dow_price.png'))"
   ]
  },
  {
   "cell_type": "code",
   "execution_count": 42,
   "id": "e81145ad",
   "metadata": {},
   "outputs": [],
   "source": [
    "#order hour of the day - sales\n",
    "hist2.figure.savefig(os.path.join(path,'04 Analysis', 'Visualizations','order_hour_sales.png'))"
   ]
  },
  {
   "cell_type": "code",
   "execution_count": 43,
   "id": "79acee45",
   "metadata": {},
   "outputs": [],
   "source": [
    "#Customer frequency\n",
    "bar2.figure.savefig(os.path.join(path,'04 Analysis','Visualizations','customer_flag.png'))"
   ]
  },
  {
   "cell_type": "code",
   "execution_count": 45,
   "id": "c915d776",
   "metadata": {},
   "outputs": [],
   "source": [
    "#price and hour of the day\n",
    "line_2.figure.savefig(os.path.join(path,'04 Analysis','Visualizations','price_hour.png'))"
   ]
  },
  {
   "cell_type": "code",
   "execution_count": 46,
   "id": "b41305c1",
   "metadata": {},
   "outputs": [],
   "source": [
    "#dependant and age correlation\n",
    "line_3.figure.savefig(os.path.join(path,'04 Analysis','Visualizations','dependant_age.png'))"
   ]
  },
  {
   "cell_type": "code",
   "execution_count": 47,
   "id": "90d3bbfa",
   "metadata": {},
   "outputs": [],
   "source": [
    "#scatterplot age and income\n",
    "scatter.figure.savefig(os.path.join(path,'04 Analysis','Visualizations','age_income.png'))"
   ]
  },
  {
   "cell_type": "code",
   "execution_count": 8,
   "id": "f7d29714",
   "metadata": {},
   "outputs": [],
   "source": [
    "crosstab = pd.crosstab(df['days_since_prior_order'], df['order_number'], dropna = False)"
   ]
  },
  {
   "cell_type": "code",
   "execution_count": 11,
   "id": "063658ed",
   "metadata": {},
   "outputs": [
    {
     "data": {
      "text/html": [
       "<div>\n",
       "<style scoped>\n",
       "    .dataframe tbody tr th:only-of-type {\n",
       "        vertical-align: middle;\n",
       "    }\n",
       "\n",
       "    .dataframe tbody tr th {\n",
       "        vertical-align: top;\n",
       "    }\n",
       "\n",
       "    .dataframe thead th {\n",
       "        text-align: right;\n",
       "    }\n",
       "</style>\n",
       "<table border=\"1\" class=\"dataframe\">\n",
       "  <thead>\n",
       "    <tr style=\"text-align: right;\">\n",
       "      <th>order_number</th>\n",
       "      <th>1</th>\n",
       "      <th>2</th>\n",
       "      <th>3</th>\n",
       "      <th>4</th>\n",
       "      <th>5</th>\n",
       "      <th>6</th>\n",
       "      <th>7</th>\n",
       "      <th>8</th>\n",
       "      <th>9</th>\n",
       "      <th>10</th>\n",
       "      <th>...</th>\n",
       "      <th>91</th>\n",
       "      <th>92</th>\n",
       "      <th>93</th>\n",
       "      <th>94</th>\n",
       "      <th>95</th>\n",
       "      <th>96</th>\n",
       "      <th>97</th>\n",
       "      <th>98</th>\n",
       "      <th>99</th>\n",
       "      <th>100</th>\n",
       "    </tr>\n",
       "    <tr>\n",
       "      <th>days_since_prior_order</th>\n",
       "      <th></th>\n",
       "      <th></th>\n",
       "      <th></th>\n",
       "      <th></th>\n",
       "      <th></th>\n",
       "      <th></th>\n",
       "      <th></th>\n",
       "      <th></th>\n",
       "      <th></th>\n",
       "      <th></th>\n",
       "      <th></th>\n",
       "      <th></th>\n",
       "      <th></th>\n",
       "      <th></th>\n",
       "      <th></th>\n",
       "      <th></th>\n",
       "      <th></th>\n",
       "      <th></th>\n",
       "      <th></th>\n",
       "      <th></th>\n",
       "      <th></th>\n",
       "    </tr>\n",
       "  </thead>\n",
       "  <tbody>\n",
       "    <tr>\n",
       "      <th>0.0</th>\n",
       "      <td>0</td>\n",
       "      <td>20564</td>\n",
       "      <td>20452</td>\n",
       "      <td>18313</td>\n",
       "      <td>16697</td>\n",
       "      <td>16280</td>\n",
       "      <td>14589</td>\n",
       "      <td>14063</td>\n",
       "      <td>12928</td>\n",
       "      <td>11619</td>\n",
       "      <td>...</td>\n",
       "      <td>1155</td>\n",
       "      <td>1042</td>\n",
       "      <td>939</td>\n",
       "      <td>1144</td>\n",
       "      <td>1104</td>\n",
       "      <td>1046</td>\n",
       "      <td>891</td>\n",
       "      <td>1046</td>\n",
       "      <td>941</td>\n",
       "      <td>137</td>\n",
       "    </tr>\n",
       "    <tr>\n",
       "      <th>1.0</th>\n",
       "      <td>0</td>\n",
       "      <td>31693</td>\n",
       "      <td>29975</td>\n",
       "      <td>28327</td>\n",
       "      <td>27335</td>\n",
       "      <td>25705</td>\n",
       "      <td>25198</td>\n",
       "      <td>23086</td>\n",
       "      <td>21938</td>\n",
       "      <td>21212</td>\n",
       "      <td>...</td>\n",
       "      <td>2813</td>\n",
       "      <td>2739</td>\n",
       "      <td>2615</td>\n",
       "      <td>2616</td>\n",
       "      <td>2651</td>\n",
       "      <td>2447</td>\n",
       "      <td>2550</td>\n",
       "      <td>2640</td>\n",
       "      <td>2371</td>\n",
       "      <td>321</td>\n",
       "    </tr>\n",
       "    <tr>\n",
       "      <th>2.0</th>\n",
       "      <td>0</td>\n",
       "      <td>46493</td>\n",
       "      <td>46302</td>\n",
       "      <td>44280</td>\n",
       "      <td>41040</td>\n",
       "      <td>41165</td>\n",
       "      <td>38336</td>\n",
       "      <td>37707</td>\n",
       "      <td>35950</td>\n",
       "      <td>34021</td>\n",
       "      <td>...</td>\n",
       "      <td>3568</td>\n",
       "      <td>3329</td>\n",
       "      <td>3605</td>\n",
       "      <td>3328</td>\n",
       "      <td>3082</td>\n",
       "      <td>2997</td>\n",
       "      <td>3065</td>\n",
       "      <td>3101</td>\n",
       "      <td>2621</td>\n",
       "      <td>329</td>\n",
       "    </tr>\n",
       "    <tr>\n",
       "      <th>3.0</th>\n",
       "      <td>0</td>\n",
       "      <td>61704</td>\n",
       "      <td>63454</td>\n",
       "      <td>60413</td>\n",
       "      <td>58256</td>\n",
       "      <td>56474</td>\n",
       "      <td>53167</td>\n",
       "      <td>49545</td>\n",
       "      <td>48529</td>\n",
       "      <td>48041</td>\n",
       "      <td>...</td>\n",
       "      <td>3246</td>\n",
       "      <td>2806</td>\n",
       "      <td>3089</td>\n",
       "      <td>2913</td>\n",
       "      <td>2652</td>\n",
       "      <td>2670</td>\n",
       "      <td>2475</td>\n",
       "      <td>2174</td>\n",
       "      <td>2474</td>\n",
       "      <td>223</td>\n",
       "    </tr>\n",
       "    <tr>\n",
       "      <th>4.0</th>\n",
       "      <td>0</td>\n",
       "      <td>76798</td>\n",
       "      <td>78925</td>\n",
       "      <td>74046</td>\n",
       "      <td>70980</td>\n",
       "      <td>66957</td>\n",
       "      <td>62751</td>\n",
       "      <td>61478</td>\n",
       "      <td>59801</td>\n",
       "      <td>57965</td>\n",
       "      <td>...</td>\n",
       "      <td>2266</td>\n",
       "      <td>2500</td>\n",
       "      <td>2044</td>\n",
       "      <td>1809</td>\n",
       "      <td>2089</td>\n",
       "      <td>1926</td>\n",
       "      <td>1800</td>\n",
       "      <td>1704</td>\n",
       "      <td>1820</td>\n",
       "      <td>153</td>\n",
       "    </tr>\n",
       "    <tr>\n",
       "      <th>5.0</th>\n",
       "      <td>0</td>\n",
       "      <td>89105</td>\n",
       "      <td>91828</td>\n",
       "      <td>87049</td>\n",
       "      <td>82370</td>\n",
       "      <td>78058</td>\n",
       "      <td>73982</td>\n",
       "      <td>70370</td>\n",
       "      <td>64826</td>\n",
       "      <td>63474</td>\n",
       "      <td>...</td>\n",
       "      <td>1638</td>\n",
       "      <td>1375</td>\n",
       "      <td>992</td>\n",
       "      <td>1223</td>\n",
       "      <td>1230</td>\n",
       "      <td>1177</td>\n",
       "      <td>971</td>\n",
       "      <td>915</td>\n",
       "      <td>937</td>\n",
       "      <td>81</td>\n",
       "    </tr>\n",
       "    <tr>\n",
       "      <th>6.0</th>\n",
       "      <td>0</td>\n",
       "      <td>120791</td>\n",
       "      <td>123009</td>\n",
       "      <td>115418</td>\n",
       "      <td>107428</td>\n",
       "      <td>101352</td>\n",
       "      <td>96484</td>\n",
       "      <td>90223</td>\n",
       "      <td>87657</td>\n",
       "      <td>79043</td>\n",
       "      <td>...</td>\n",
       "      <td>848</td>\n",
       "      <td>949</td>\n",
       "      <td>1014</td>\n",
       "      <td>842</td>\n",
       "      <td>578</td>\n",
       "      <td>496</td>\n",
       "      <td>607</td>\n",
       "      <td>488</td>\n",
       "      <td>550</td>\n",
       "      <td>44</td>\n",
       "    </tr>\n",
       "    <tr>\n",
       "      <th>7.0</th>\n",
       "      <td>0</td>\n",
       "      <td>184986</td>\n",
       "      <td>181835</td>\n",
       "      <td>168751</td>\n",
       "      <td>158480</td>\n",
       "      <td>144539</td>\n",
       "      <td>138510</td>\n",
       "      <td>129189</td>\n",
       "      <td>121415</td>\n",
       "      <td>115393</td>\n",
       "      <td>...</td>\n",
       "      <td>576</td>\n",
       "      <td>525</td>\n",
       "      <td>443</td>\n",
       "      <td>602</td>\n",
       "      <td>424</td>\n",
       "      <td>424</td>\n",
       "      <td>379</td>\n",
       "      <td>424</td>\n",
       "      <td>327</td>\n",
       "      <td>35</td>\n",
       "    </tr>\n",
       "    <tr>\n",
       "      <th>8.0</th>\n",
       "      <td>0</td>\n",
       "      <td>112451</td>\n",
       "      <td>110851</td>\n",
       "      <td>102962</td>\n",
       "      <td>95623</td>\n",
       "      <td>88247</td>\n",
       "      <td>82160</td>\n",
       "      <td>79182</td>\n",
       "      <td>71445</td>\n",
       "      <td>67961</td>\n",
       "      <td>...</td>\n",
       "      <td>265</td>\n",
       "      <td>229</td>\n",
       "      <td>246</td>\n",
       "      <td>276</td>\n",
       "      <td>232</td>\n",
       "      <td>238</td>\n",
       "      <td>144</td>\n",
       "      <td>138</td>\n",
       "      <td>85</td>\n",
       "      <td>13</td>\n",
       "    </tr>\n",
       "    <tr>\n",
       "      <th>9.0</th>\n",
       "      <td>0</td>\n",
       "      <td>73740</td>\n",
       "      <td>75441</td>\n",
       "      <td>69060</td>\n",
       "      <td>65542</td>\n",
       "      <td>59321</td>\n",
       "      <td>55179</td>\n",
       "      <td>50925</td>\n",
       "      <td>48071</td>\n",
       "      <td>43763</td>\n",
       "      <td>...</td>\n",
       "      <td>91</td>\n",
       "      <td>100</td>\n",
       "      <td>103</td>\n",
       "      <td>147</td>\n",
       "      <td>91</td>\n",
       "      <td>67</td>\n",
       "      <td>102</td>\n",
       "      <td>68</td>\n",
       "      <td>65</td>\n",
       "      <td>11</td>\n",
       "    </tr>\n",
       "    <tr>\n",
       "      <th>10.0</th>\n",
       "      <td>0</td>\n",
       "      <td>62087</td>\n",
       "      <td>62510</td>\n",
       "      <td>58184</td>\n",
       "      <td>52346</td>\n",
       "      <td>49841</td>\n",
       "      <td>44068</td>\n",
       "      <td>41391</td>\n",
       "      <td>38712</td>\n",
       "      <td>35162</td>\n",
       "      <td>...</td>\n",
       "      <td>103</td>\n",
       "      <td>224</td>\n",
       "      <td>78</td>\n",
       "      <td>46</td>\n",
       "      <td>118</td>\n",
       "      <td>4</td>\n",
       "      <td>101</td>\n",
       "      <td>42</td>\n",
       "      <td>59</td>\n",
       "      <td>7</td>\n",
       "    </tr>\n",
       "    <tr>\n",
       "      <th>11.0</th>\n",
       "      <td>0</td>\n",
       "      <td>55614</td>\n",
       "      <td>55969</td>\n",
       "      <td>52419</td>\n",
       "      <td>45926</td>\n",
       "      <td>42882</td>\n",
       "      <td>40472</td>\n",
       "      <td>37154</td>\n",
       "      <td>33635</td>\n",
       "      <td>31069</td>\n",
       "      <td>...</td>\n",
       "      <td>85</td>\n",
       "      <td>175</td>\n",
       "      <td>56</td>\n",
       "      <td>69</td>\n",
       "      <td>126</td>\n",
       "      <td>63</td>\n",
       "      <td>64</td>\n",
       "      <td>1</td>\n",
       "      <td>19</td>\n",
       "      <td>7</td>\n",
       "    </tr>\n",
       "    <tr>\n",
       "      <th>12.0</th>\n",
       "      <td>0</td>\n",
       "      <td>54651</td>\n",
       "      <td>56696</td>\n",
       "      <td>51560</td>\n",
       "      <td>45024</td>\n",
       "      <td>42983</td>\n",
       "      <td>39002</td>\n",
       "      <td>35617</td>\n",
       "      <td>33751</td>\n",
       "      <td>30063</td>\n",
       "      <td>...</td>\n",
       "      <td>54</td>\n",
       "      <td>70</td>\n",
       "      <td>32</td>\n",
       "      <td>50</td>\n",
       "      <td>75</td>\n",
       "      <td>55</td>\n",
       "      <td>52</td>\n",
       "      <td>5</td>\n",
       "      <td>66</td>\n",
       "      <td>3</td>\n",
       "    </tr>\n",
       "    <tr>\n",
       "      <th>13.0</th>\n",
       "      <td>0</td>\n",
       "      <td>64020</td>\n",
       "      <td>66413</td>\n",
       "      <td>59031</td>\n",
       "      <td>54838</td>\n",
       "      <td>48145</td>\n",
       "      <td>45289</td>\n",
       "      <td>41619</td>\n",
       "      <td>38618</td>\n",
       "      <td>34553</td>\n",
       "      <td>...</td>\n",
       "      <td>94</td>\n",
       "      <td>93</td>\n",
       "      <td>80</td>\n",
       "      <td>86</td>\n",
       "      <td>25</td>\n",
       "      <td>27</td>\n",
       "      <td>61</td>\n",
       "      <td>84</td>\n",
       "      <td>68</td>\n",
       "      <td>1</td>\n",
       "    </tr>\n",
       "    <tr>\n",
       "      <th>14.0</th>\n",
       "      <td>0</td>\n",
       "      <td>82187</td>\n",
       "      <td>79840</td>\n",
       "      <td>75502</td>\n",
       "      <td>68150</td>\n",
       "      <td>61043</td>\n",
       "      <td>55368</td>\n",
       "      <td>49690</td>\n",
       "      <td>46681</td>\n",
       "      <td>42759</td>\n",
       "      <td>...</td>\n",
       "      <td>8</td>\n",
       "      <td>14</td>\n",
       "      <td>97</td>\n",
       "      <td>55</td>\n",
       "      <td>41</td>\n",
       "      <td>32</td>\n",
       "      <td>55</td>\n",
       "      <td>33</td>\n",
       "      <td>5</td>\n",
       "      <td>2</td>\n",
       "    </tr>\n",
       "    <tr>\n",
       "      <th>15.0</th>\n",
       "      <td>0</td>\n",
       "      <td>54546</td>\n",
       "      <td>53636</td>\n",
       "      <td>50747</td>\n",
       "      <td>44507</td>\n",
       "      <td>39883</td>\n",
       "      <td>35889</td>\n",
       "      <td>34185</td>\n",
       "      <td>29882</td>\n",
       "      <td>27984</td>\n",
       "      <td>...</td>\n",
       "      <td>15</td>\n",
       "      <td>31</td>\n",
       "      <td>25</td>\n",
       "      <td>6</td>\n",
       "      <td>23</td>\n",
       "      <td>21</td>\n",
       "      <td>17</td>\n",
       "      <td>7</td>\n",
       "      <td>17</td>\n",
       "      <td>1</td>\n",
       "    </tr>\n",
       "    <tr>\n",
       "      <th>16.0</th>\n",
       "      <td>0</td>\n",
       "      <td>38933</td>\n",
       "      <td>39565</td>\n",
       "      <td>34912</td>\n",
       "      <td>30935</td>\n",
       "      <td>28574</td>\n",
       "      <td>25662</td>\n",
       "      <td>22651</td>\n",
       "      <td>22570</td>\n",
       "      <td>20784</td>\n",
       "      <td>...</td>\n",
       "      <td>20</td>\n",
       "      <td>7</td>\n",
       "      <td>0</td>\n",
       "      <td>12</td>\n",
       "      <td>0</td>\n",
       "      <td>39</td>\n",
       "      <td>50</td>\n",
       "      <td>18</td>\n",
       "      <td>10</td>\n",
       "      <td>1</td>\n",
       "    </tr>\n",
       "    <tr>\n",
       "      <th>17.0</th>\n",
       "      <td>0</td>\n",
       "      <td>31985</td>\n",
       "      <td>32888</td>\n",
       "      <td>30142</td>\n",
       "      <td>26569</td>\n",
       "      <td>24099</td>\n",
       "      <td>20844</td>\n",
       "      <td>18796</td>\n",
       "      <td>17718</td>\n",
       "      <td>16167</td>\n",
       "      <td>...</td>\n",
       "      <td>0</td>\n",
       "      <td>33</td>\n",
       "      <td>1</td>\n",
       "      <td>16</td>\n",
       "      <td>7</td>\n",
       "      <td>5</td>\n",
       "      <td>23</td>\n",
       "      <td>0</td>\n",
       "      <td>6</td>\n",
       "      <td>0</td>\n",
       "    </tr>\n",
       "    <tr>\n",
       "      <th>18.0</th>\n",
       "      <td>0</td>\n",
       "      <td>31644</td>\n",
       "      <td>30512</td>\n",
       "      <td>27651</td>\n",
       "      <td>25125</td>\n",
       "      <td>22226</td>\n",
       "      <td>19389</td>\n",
       "      <td>17759</td>\n",
       "      <td>16922</td>\n",
       "      <td>15211</td>\n",
       "      <td>...</td>\n",
       "      <td>1</td>\n",
       "      <td>13</td>\n",
       "      <td>0</td>\n",
       "      <td>20</td>\n",
       "      <td>0</td>\n",
       "      <td>51</td>\n",
       "      <td>0</td>\n",
       "      <td>0</td>\n",
       "      <td>26</td>\n",
       "      <td>0</td>\n",
       "    </tr>\n",
       "    <tr>\n",
       "      <th>19.0</th>\n",
       "      <td>0</td>\n",
       "      <td>29912</td>\n",
       "      <td>31389</td>\n",
       "      <td>26851</td>\n",
       "      <td>24150</td>\n",
       "      <td>21701</td>\n",
       "      <td>20148</td>\n",
       "      <td>18060</td>\n",
       "      <td>15864</td>\n",
       "      <td>14489</td>\n",
       "      <td>...</td>\n",
       "      <td>7</td>\n",
       "      <td>0</td>\n",
       "      <td>0</td>\n",
       "      <td>0</td>\n",
       "      <td>1</td>\n",
       "      <td>21</td>\n",
       "      <td>14</td>\n",
       "      <td>0</td>\n",
       "      <td>0</td>\n",
       "      <td>1</td>\n",
       "    </tr>\n",
       "    <tr>\n",
       "      <th>20.0</th>\n",
       "      <td>0</td>\n",
       "      <td>35526</td>\n",
       "      <td>35247</td>\n",
       "      <td>32169</td>\n",
       "      <td>29081</td>\n",
       "      <td>25798</td>\n",
       "      <td>23376</td>\n",
       "      <td>20019</td>\n",
       "      <td>17351</td>\n",
       "      <td>16226</td>\n",
       "      <td>...</td>\n",
       "      <td>41</td>\n",
       "      <td>7</td>\n",
       "      <td>0</td>\n",
       "      <td>9</td>\n",
       "      <td>0</td>\n",
       "      <td>0</td>\n",
       "      <td>0</td>\n",
       "      <td>0</td>\n",
       "      <td>0</td>\n",
       "      <td>1</td>\n",
       "    </tr>\n",
       "    <tr>\n",
       "      <th>21.0</th>\n",
       "      <td>0</td>\n",
       "      <td>43989</td>\n",
       "      <td>44639</td>\n",
       "      <td>38193</td>\n",
       "      <td>32580</td>\n",
       "      <td>31800</td>\n",
       "      <td>26338</td>\n",
       "      <td>23788</td>\n",
       "      <td>20842</td>\n",
       "      <td>19762</td>\n",
       "      <td>...</td>\n",
       "      <td>0</td>\n",
       "      <td>32</td>\n",
       "      <td>12</td>\n",
       "      <td>0</td>\n",
       "      <td>19</td>\n",
       "      <td>0</td>\n",
       "      <td>0</td>\n",
       "      <td>12</td>\n",
       "      <td>0</td>\n",
       "      <td>1</td>\n",
       "    </tr>\n",
       "    <tr>\n",
       "      <th>22.0</th>\n",
       "      <td>0</td>\n",
       "      <td>30064</td>\n",
       "      <td>29512</td>\n",
       "      <td>26924</td>\n",
       "      <td>23692</td>\n",
       "      <td>20719</td>\n",
       "      <td>18732</td>\n",
       "      <td>17144</td>\n",
       "      <td>15603</td>\n",
       "      <td>14032</td>\n",
       "      <td>...</td>\n",
       "      <td>9</td>\n",
       "      <td>0</td>\n",
       "      <td>0</td>\n",
       "      <td>0</td>\n",
       "      <td>1</td>\n",
       "      <td>0</td>\n",
       "      <td>0</td>\n",
       "      <td>0</td>\n",
       "      <td>1</td>\n",
       "      <td>1</td>\n",
       "    </tr>\n",
       "    <tr>\n",
       "      <th>23.0</th>\n",
       "      <td>0</td>\n",
       "      <td>22972</td>\n",
       "      <td>24133</td>\n",
       "      <td>20089</td>\n",
       "      <td>17305</td>\n",
       "      <td>15779</td>\n",
       "      <td>14088</td>\n",
       "      <td>11706</td>\n",
       "      <td>11269</td>\n",
       "      <td>8810</td>\n",
       "      <td>...</td>\n",
       "      <td>0</td>\n",
       "      <td>1</td>\n",
       "      <td>0</td>\n",
       "      <td>0</td>\n",
       "      <td>9</td>\n",
       "      <td>0</td>\n",
       "      <td>0</td>\n",
       "      <td>0</td>\n",
       "      <td>2</td>\n",
       "      <td>0</td>\n",
       "    </tr>\n",
       "    <tr>\n",
       "      <th>24.0</th>\n",
       "      <td>0</td>\n",
       "      <td>19305</td>\n",
       "      <td>19457</td>\n",
       "      <td>17135</td>\n",
       "      <td>15937</td>\n",
       "      <td>13702</td>\n",
       "      <td>12569</td>\n",
       "      <td>10958</td>\n",
       "      <td>9613</td>\n",
       "      <td>8373</td>\n",
       "      <td>...</td>\n",
       "      <td>0</td>\n",
       "      <td>0</td>\n",
       "      <td>0</td>\n",
       "      <td>0</td>\n",
       "      <td>0</td>\n",
       "      <td>0</td>\n",
       "      <td>0</td>\n",
       "      <td>0</td>\n",
       "      <td>0</td>\n",
       "      <td>0</td>\n",
       "    </tr>\n",
       "    <tr>\n",
       "      <th>25.0</th>\n",
       "      <td>0</td>\n",
       "      <td>18777</td>\n",
       "      <td>19392</td>\n",
       "      <td>16513</td>\n",
       "      <td>14434</td>\n",
       "      <td>12792</td>\n",
       "      <td>10854</td>\n",
       "      <td>9329</td>\n",
       "      <td>8640</td>\n",
       "      <td>7895</td>\n",
       "      <td>...</td>\n",
       "      <td>0</td>\n",
       "      <td>0</td>\n",
       "      <td>0</td>\n",
       "      <td>0</td>\n",
       "      <td>0</td>\n",
       "      <td>0</td>\n",
       "      <td>0</td>\n",
       "      <td>0</td>\n",
       "      <td>0</td>\n",
       "      <td>0</td>\n",
       "    </tr>\n",
       "    <tr>\n",
       "      <th>26.0</th>\n",
       "      <td>0</td>\n",
       "      <td>18465</td>\n",
       "      <td>19485</td>\n",
       "      <td>16284</td>\n",
       "      <td>15122</td>\n",
       "      <td>13198</td>\n",
       "      <td>11951</td>\n",
       "      <td>10024</td>\n",
       "      <td>8855</td>\n",
       "      <td>8015</td>\n",
       "      <td>...</td>\n",
       "      <td>0</td>\n",
       "      <td>0</td>\n",
       "      <td>0</td>\n",
       "      <td>0</td>\n",
       "      <td>9</td>\n",
       "      <td>0</td>\n",
       "      <td>0</td>\n",
       "      <td>0</td>\n",
       "      <td>0</td>\n",
       "      <td>0</td>\n",
       "    </tr>\n",
       "    <tr>\n",
       "      <th>27.0</th>\n",
       "      <td>0</td>\n",
       "      <td>21359</td>\n",
       "      <td>22628</td>\n",
       "      <td>20531</td>\n",
       "      <td>18600</td>\n",
       "      <td>14653</td>\n",
       "      <td>12683</td>\n",
       "      <td>11992</td>\n",
       "      <td>10368</td>\n",
       "      <td>8723</td>\n",
       "      <td>...</td>\n",
       "      <td>0</td>\n",
       "      <td>0</td>\n",
       "      <td>0</td>\n",
       "      <td>0</td>\n",
       "      <td>0</td>\n",
       "      <td>0</td>\n",
       "      <td>0</td>\n",
       "      <td>0</td>\n",
       "      <td>0</td>\n",
       "      <td>0</td>\n",
       "    </tr>\n",
       "    <tr>\n",
       "      <th>28.0</th>\n",
       "      <td>0</td>\n",
       "      <td>27989</td>\n",
       "      <td>28802</td>\n",
       "      <td>25685</td>\n",
       "      <td>21172</td>\n",
       "      <td>18408</td>\n",
       "      <td>16741</td>\n",
       "      <td>14442</td>\n",
       "      <td>12908</td>\n",
       "      <td>11075</td>\n",
       "      <td>...</td>\n",
       "      <td>0</td>\n",
       "      <td>0</td>\n",
       "      <td>1</td>\n",
       "      <td>0</td>\n",
       "      <td>0</td>\n",
       "      <td>6</td>\n",
       "      <td>0</td>\n",
       "      <td>0</td>\n",
       "      <td>0</td>\n",
       "      <td>1</td>\n",
       "    </tr>\n",
       "    <tr>\n",
       "      <th>29.0</th>\n",
       "      <td>0</td>\n",
       "      <td>19963</td>\n",
       "      <td>19862</td>\n",
       "      <td>17297</td>\n",
       "      <td>15032</td>\n",
       "      <td>13497</td>\n",
       "      <td>11437</td>\n",
       "      <td>10261</td>\n",
       "      <td>9004</td>\n",
       "      <td>7782</td>\n",
       "      <td>...</td>\n",
       "      <td>4</td>\n",
       "      <td>0</td>\n",
       "      <td>0</td>\n",
       "      <td>0</td>\n",
       "      <td>0</td>\n",
       "      <td>0</td>\n",
       "      <td>0</td>\n",
       "      <td>0</td>\n",
       "      <td>0</td>\n",
       "      <td>0</td>\n",
       "    </tr>\n",
       "    <tr>\n",
       "      <th>30.0</th>\n",
       "      <td>0</td>\n",
       "      <td>466067</td>\n",
       "      <td>456127</td>\n",
       "      <td>377887</td>\n",
       "      <td>303767</td>\n",
       "      <td>248616</td>\n",
       "      <td>202477</td>\n",
       "      <td>168517</td>\n",
       "      <td>139322</td>\n",
       "      <td>116333</td>\n",
       "      <td>...</td>\n",
       "      <td>11</td>\n",
       "      <td>4</td>\n",
       "      <td>2</td>\n",
       "      <td>0</td>\n",
       "      <td>5</td>\n",
       "      <td>1</td>\n",
       "      <td>0</td>\n",
       "      <td>8</td>\n",
       "      <td>13</td>\n",
       "      <td>0</td>\n",
       "    </tr>\n",
       "  </tbody>\n",
       "</table>\n",
       "<p>31 rows × 100 columns</p>\n",
       "</div>"
      ],
      "text/plain": [
       "order_number            1       2       3       4       5       6       7    \\\n",
       "days_since_prior_order                                                        \n",
       "0.0                       0   20564   20452   18313   16697   16280   14589   \n",
       "1.0                       0   31693   29975   28327   27335   25705   25198   \n",
       "2.0                       0   46493   46302   44280   41040   41165   38336   \n",
       "3.0                       0   61704   63454   60413   58256   56474   53167   \n",
       "4.0                       0   76798   78925   74046   70980   66957   62751   \n",
       "5.0                       0   89105   91828   87049   82370   78058   73982   \n",
       "6.0                       0  120791  123009  115418  107428  101352   96484   \n",
       "7.0                       0  184986  181835  168751  158480  144539  138510   \n",
       "8.0                       0  112451  110851  102962   95623   88247   82160   \n",
       "9.0                       0   73740   75441   69060   65542   59321   55179   \n",
       "10.0                      0   62087   62510   58184   52346   49841   44068   \n",
       "11.0                      0   55614   55969   52419   45926   42882   40472   \n",
       "12.0                      0   54651   56696   51560   45024   42983   39002   \n",
       "13.0                      0   64020   66413   59031   54838   48145   45289   \n",
       "14.0                      0   82187   79840   75502   68150   61043   55368   \n",
       "15.0                      0   54546   53636   50747   44507   39883   35889   \n",
       "16.0                      0   38933   39565   34912   30935   28574   25662   \n",
       "17.0                      0   31985   32888   30142   26569   24099   20844   \n",
       "18.0                      0   31644   30512   27651   25125   22226   19389   \n",
       "19.0                      0   29912   31389   26851   24150   21701   20148   \n",
       "20.0                      0   35526   35247   32169   29081   25798   23376   \n",
       "21.0                      0   43989   44639   38193   32580   31800   26338   \n",
       "22.0                      0   30064   29512   26924   23692   20719   18732   \n",
       "23.0                      0   22972   24133   20089   17305   15779   14088   \n",
       "24.0                      0   19305   19457   17135   15937   13702   12569   \n",
       "25.0                      0   18777   19392   16513   14434   12792   10854   \n",
       "26.0                      0   18465   19485   16284   15122   13198   11951   \n",
       "27.0                      0   21359   22628   20531   18600   14653   12683   \n",
       "28.0                      0   27989   28802   25685   21172   18408   16741   \n",
       "29.0                      0   19963   19862   17297   15032   13497   11437   \n",
       "30.0                      0  466067  456127  377887  303767  248616  202477   \n",
       "\n",
       "order_number               8       9       10   ...   91    92    93    94   \\\n",
       "days_since_prior_order                          ...                           \n",
       "0.0                      14063   12928   11619  ...  1155  1042   939  1144   \n",
       "1.0                      23086   21938   21212  ...  2813  2739  2615  2616   \n",
       "2.0                      37707   35950   34021  ...  3568  3329  3605  3328   \n",
       "3.0                      49545   48529   48041  ...  3246  2806  3089  2913   \n",
       "4.0                      61478   59801   57965  ...  2266  2500  2044  1809   \n",
       "5.0                      70370   64826   63474  ...  1638  1375   992  1223   \n",
       "6.0                      90223   87657   79043  ...   848   949  1014   842   \n",
       "7.0                     129189  121415  115393  ...   576   525   443   602   \n",
       "8.0                      79182   71445   67961  ...   265   229   246   276   \n",
       "9.0                      50925   48071   43763  ...    91   100   103   147   \n",
       "10.0                     41391   38712   35162  ...   103   224    78    46   \n",
       "11.0                     37154   33635   31069  ...    85   175    56    69   \n",
       "12.0                     35617   33751   30063  ...    54    70    32    50   \n",
       "13.0                     41619   38618   34553  ...    94    93    80    86   \n",
       "14.0                     49690   46681   42759  ...     8    14    97    55   \n",
       "15.0                     34185   29882   27984  ...    15    31    25     6   \n",
       "16.0                     22651   22570   20784  ...    20     7     0    12   \n",
       "17.0                     18796   17718   16167  ...     0    33     1    16   \n",
       "18.0                     17759   16922   15211  ...     1    13     0    20   \n",
       "19.0                     18060   15864   14489  ...     7     0     0     0   \n",
       "20.0                     20019   17351   16226  ...    41     7     0     9   \n",
       "21.0                     23788   20842   19762  ...     0    32    12     0   \n",
       "22.0                     17144   15603   14032  ...     9     0     0     0   \n",
       "23.0                     11706   11269    8810  ...     0     1     0     0   \n",
       "24.0                     10958    9613    8373  ...     0     0     0     0   \n",
       "25.0                      9329    8640    7895  ...     0     0     0     0   \n",
       "26.0                     10024    8855    8015  ...     0     0     0     0   \n",
       "27.0                     11992   10368    8723  ...     0     0     0     0   \n",
       "28.0                     14442   12908   11075  ...     0     0     1     0   \n",
       "29.0                     10261    9004    7782  ...     4     0     0     0   \n",
       "30.0                    168517  139322  116333  ...    11     4     2     0   \n",
       "\n",
       "order_number             95    96    97    98    99   100  \n",
       "days_since_prior_order                                     \n",
       "0.0                     1104  1046   891  1046   941  137  \n",
       "1.0                     2651  2447  2550  2640  2371  321  \n",
       "2.0                     3082  2997  3065  3101  2621  329  \n",
       "3.0                     2652  2670  2475  2174  2474  223  \n",
       "4.0                     2089  1926  1800  1704  1820  153  \n",
       "5.0                     1230  1177   971   915   937   81  \n",
       "6.0                      578   496   607   488   550   44  \n",
       "7.0                      424   424   379   424   327   35  \n",
       "8.0                      232   238   144   138    85   13  \n",
       "9.0                       91    67   102    68    65   11  \n",
       "10.0                     118     4   101    42    59    7  \n",
       "11.0                     126    63    64     1    19    7  \n",
       "12.0                      75    55    52     5    66    3  \n",
       "13.0                      25    27    61    84    68    1  \n",
       "14.0                      41    32    55    33     5    2  \n",
       "15.0                      23    21    17     7    17    1  \n",
       "16.0                       0    39    50    18    10    1  \n",
       "17.0                       7     5    23     0     6    0  \n",
       "18.0                       0    51     0     0    26    0  \n",
       "19.0                       1    21    14     0     0    1  \n",
       "20.0                       0     0     0     0     0    1  \n",
       "21.0                      19     0     0    12     0    1  \n",
       "22.0                       1     0     0     0     1    1  \n",
       "23.0                       9     0     0     0     2    0  \n",
       "24.0                       0     0     0     0     0    0  \n",
       "25.0                       0     0     0     0     0    0  \n",
       "26.0                       9     0     0     0     0    0  \n",
       "27.0                       0     0     0     0     0    0  \n",
       "28.0                       0     6     0     0     0    1  \n",
       "29.0                       0     0     0     0     0    0  \n",
       "30.0                       5     1     0     8    13    0  \n",
       "\n",
       "[31 rows x 100 columns]"
      ]
     },
     "execution_count": 11,
     "metadata": {},
     "output_type": "execute_result"
    }
   ],
   "source": [
    "crosstab"
   ]
  },
  {
   "cell_type": "code",
   "execution_count": 23,
   "id": "d984472b",
   "metadata": {},
   "outputs": [],
   "source": [
    "crosstab.to_clipboard()"
   ]
  },
  {
   "cell_type": "code",
   "execution_count": null,
   "id": "843618c5",
   "metadata": {},
   "outputs": [],
   "source": []
  }
 ],
 "metadata": {
  "kernelspec": {
   "display_name": "Python 3",
   "language": "python",
   "name": "python3"
  },
  "language_info": {
   "codemirror_mode": {
    "name": "ipython",
    "version": 3
   },
   "file_extension": ".py",
   "mimetype": "text/x-python",
   "name": "python",
   "nbconvert_exporter": "python",
   "pygments_lexer": "ipython3",
   "version": "3.8.8"
  }
 },
 "nbformat": 4,
 "nbformat_minor": 5
}
